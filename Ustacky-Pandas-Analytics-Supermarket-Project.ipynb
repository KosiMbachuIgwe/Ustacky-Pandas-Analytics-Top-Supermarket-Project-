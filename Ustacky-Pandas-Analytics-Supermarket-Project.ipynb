{
 "cells": [
  {
   "cell_type": "markdown",
   "id": "8ddb6113",
   "metadata": {},
   "source": [
    "# Pandas Analytics Supermarket Project - Company XYZ"
   ]
  },
  {
   "cell_type": "code",
   "execution_count": 1,
   "id": "59be30e2",
   "metadata": {},
   "outputs": [],
   "source": [
    "import os\n",
    "import glob\n",
    "import pandas as pd\n",
    "os.chdir('C:/Users/kosisochukwu/UStacky/') #Current working directory that contains your dataset and code file\n"
   ]
  },
  {
   "cell_type": "markdown",
   "id": "ec7dbf0c",
   "metadata": {},
   "source": [
    "### Use glob to match the pattern \"csv\""
   ]
  },
  {
   "cell_type": "code",
   "execution_count": 2,
   "id": "dc17b94e",
   "metadata": {},
   "outputs": [
    {
     "name": "stdout",
     "output_type": "stream",
     "text": [
      "['C:/Users/kosisochukwu/UStacky\\\\Abuja_Branch.csv', 'C:/Users/kosisochukwu/UStacky\\\\Lagos_Branch.csv', 'C:/Users/kosisochukwu/UStacky\\\\Port_Harcourt_Branch.csv']\n"
     ]
    }
   ],
   "source": [
    "extension = 'csv'\n",
    "path = 'C:/Users/kosisochukwu/UStacky/'\n",
    "files = glob.glob(path + '\\*.csv')\n",
    "print(files)"
   ]
  },
  {
   "cell_type": "markdown",
   "id": "84257608",
   "metadata": {},
   "source": [
    "### Combine all the files in the generated list above and export to a csv file \n",
    "\n",
    "Tips - Use the pd.concat method "
   ]
  },
  {
   "cell_type": "code",
   "execution_count": 3,
   "id": "e6473adb",
   "metadata": {},
   "outputs": [
    {
     "name": "stdout",
     "output_type": "stream",
     "text": [
      "Successfully created dataframe for Abuja_Branch.csv with shape (332, 17)\n",
      "Successfully created dataframe for Lagos_Branch.csv with shape (340, 17)\n",
      "Successfully created dataframe for Port_Harcourt_Branch.csv with shape (328, 17)\n",
      "\n",
      "\n",
      "(1000, 17)\n"
     ]
    }
   ],
   "source": [
    "my_list =[]\n",
    "for f in files:\n",
    "    # get filename\n",
    "    stock = os.path.basename(f)\n",
    "    # read in csv\n",
    "    temp_df = pd.read_csv(f)\n",
    "    # create new column with filename\n",
    "    temp_df['Invoice ID'] = stock\n",
    "    # data cleaning to remove the .csv\n",
    "    temp_df['Invoice ID'] = temp_df['Invoice ID'].replace('.csv', '', regex=True)\n",
    "    #append df to list\n",
    "    my_list.append(temp_df)\n",
    "    print(f'Successfully created dataframe for {stock} with shape {temp_df.shape}')\n",
    "\n",
    "#Export to csv\n",
    "new_csv = pd.concat(my_list, axis = 0)\n",
    "print('\\n')\n",
    "print(new_csv.shape)\n",
    "\n",
    "new_csv.to_csv('new_csv.csv', index = False)"
   ]
  },
  {
   "cell_type": "markdown",
   "id": "01e8b5b0",
   "metadata": {},
   "source": [
    "### Read the csv file using pd.read_csv"
   ]
  },
  {
   "cell_type": "code",
   "execution_count": 4,
   "id": "638f6d94",
   "metadata": {},
   "outputs": [],
   "source": [
    "data = pd.read_csv('new_csv.csv') "
   ]
  },
  {
   "cell_type": "code",
   "execution_count": 5,
   "id": "bb3cf10c",
   "metadata": {},
   "outputs": [
    {
     "data": {
      "text/html": [
       "<div>\n",
       "<style scoped>\n",
       "    .dataframe tbody tr th:only-of-type {\n",
       "        vertical-align: middle;\n",
       "    }\n",
       "\n",
       "    .dataframe tbody tr th {\n",
       "        vertical-align: top;\n",
       "    }\n",
       "\n",
       "    .dataframe thead th {\n",
       "        text-align: right;\n",
       "    }\n",
       "</style>\n",
       "<table border=\"1\" class=\"dataframe\">\n",
       "  <thead>\n",
       "    <tr style=\"text-align: right;\">\n",
       "      <th></th>\n",
       "      <th>Invoice ID</th>\n",
       "      <th>Branch</th>\n",
       "      <th>City</th>\n",
       "      <th>Customer type</th>\n",
       "      <th>Gender</th>\n",
       "      <th>Product line</th>\n",
       "      <th>Unit price</th>\n",
       "      <th>Quantity</th>\n",
       "      <th>Tax 5%</th>\n",
       "      <th>Total</th>\n",
       "      <th>Date</th>\n",
       "      <th>Time</th>\n",
       "      <th>Payment</th>\n",
       "      <th>cogs</th>\n",
       "      <th>gross margin percentage</th>\n",
       "      <th>gross income</th>\n",
       "      <th>Rating</th>\n",
       "    </tr>\n",
       "  </thead>\n",
       "  <tbody>\n",
       "    <tr>\n",
       "      <th>0</th>\n",
       "      <td>Abuja_Branch</td>\n",
       "      <td>B</td>\n",
       "      <td>Abuja</td>\n",
       "      <td>Member</td>\n",
       "      <td>Female</td>\n",
       "      <td>Food and beverages</td>\n",
       "      <td>19742.4</td>\n",
       "      <td>3</td>\n",
       "      <td>2961.36</td>\n",
       "      <td>62188.56</td>\n",
       "      <td>2/20/2019</td>\n",
       "      <td>13:27</td>\n",
       "      <td>Card</td>\n",
       "      <td>59227.2</td>\n",
       "      <td>4.761905</td>\n",
       "      <td>2961.36</td>\n",
       "      <td>5.9</td>\n",
       "    </tr>\n",
       "    <tr>\n",
       "      <th>1</th>\n",
       "      <td>Abuja_Branch</td>\n",
       "      <td>B</td>\n",
       "      <td>Abuja</td>\n",
       "      <td>Member</td>\n",
       "      <td>Female</td>\n",
       "      <td>Fashion accessories</td>\n",
       "      <td>5212.8</td>\n",
       "      <td>4</td>\n",
       "      <td>1042.56</td>\n",
       "      <td>21893.76</td>\n",
       "      <td>2/6/2019</td>\n",
       "      <td>18:07</td>\n",
       "      <td>Epay</td>\n",
       "      <td>20851.2</td>\n",
       "      <td>4.761905</td>\n",
       "      <td>1042.56</td>\n",
       "      <td>4.5</td>\n",
       "    </tr>\n",
       "    <tr>\n",
       "      <th>2</th>\n",
       "      <td>Abuja_Branch</td>\n",
       "      <td>B</td>\n",
       "      <td>Abuja</td>\n",
       "      <td>Member</td>\n",
       "      <td>Male</td>\n",
       "      <td>Electronic accessories</td>\n",
       "      <td>9183.6</td>\n",
       "      <td>4</td>\n",
       "      <td>1836.72</td>\n",
       "      <td>38571.12</td>\n",
       "      <td>3/9/2019</td>\n",
       "      <td>17:03</td>\n",
       "      <td>Cash</td>\n",
       "      <td>36734.4</td>\n",
       "      <td>4.761905</td>\n",
       "      <td>1836.72</td>\n",
       "      <td>6.8</td>\n",
       "    </tr>\n",
       "    <tr>\n",
       "      <th>3</th>\n",
       "      <td>Abuja_Branch</td>\n",
       "      <td>B</td>\n",
       "      <td>Abuja</td>\n",
       "      <td>Member</td>\n",
       "      <td>Female</td>\n",
       "      <td>Sports and travel</td>\n",
       "      <td>33739.2</td>\n",
       "      <td>6</td>\n",
       "      <td>10121.76</td>\n",
       "      <td>212556.96</td>\n",
       "      <td>1/15/2019</td>\n",
       "      <td>16:19</td>\n",
       "      <td>Cash</td>\n",
       "      <td>202435.2</td>\n",
       "      <td>4.761905</td>\n",
       "      <td>10121.76</td>\n",
       "      <td>4.5</td>\n",
       "    </tr>\n",
       "    <tr>\n",
       "      <th>4</th>\n",
       "      <td>Abuja_Branch</td>\n",
       "      <td>B</td>\n",
       "      <td>Abuja</td>\n",
       "      <td>Normal</td>\n",
       "      <td>Female</td>\n",
       "      <td>Home and lifestyle</td>\n",
       "      <td>14508.0</td>\n",
       "      <td>2</td>\n",
       "      <td>1450.80</td>\n",
       "      <td>30466.80</td>\n",
       "      <td>3/11/2019</td>\n",
       "      <td>15:30</td>\n",
       "      <td>Epay</td>\n",
       "      <td>29016.0</td>\n",
       "      <td>4.761905</td>\n",
       "      <td>1450.80</td>\n",
       "      <td>4.4</td>\n",
       "    </tr>\n",
       "    <tr>\n",
       "      <th>...</th>\n",
       "      <td>...</td>\n",
       "      <td>...</td>\n",
       "      <td>...</td>\n",
       "      <td>...</td>\n",
       "      <td>...</td>\n",
       "      <td>...</td>\n",
       "      <td>...</td>\n",
       "      <td>...</td>\n",
       "      <td>...</td>\n",
       "      <td>...</td>\n",
       "      <td>...</td>\n",
       "      <td>...</td>\n",
       "      <td>...</td>\n",
       "      <td>...</td>\n",
       "      <td>...</td>\n",
       "      <td>...</td>\n",
       "      <td>...</td>\n",
       "    </tr>\n",
       "    <tr>\n",
       "      <th>995</th>\n",
       "      <td>Port_Harcourt_Branch</td>\n",
       "      <td>C</td>\n",
       "      <td>Port Harcourt</td>\n",
       "      <td>Normal</td>\n",
       "      <td>Male</td>\n",
       "      <td>Health and beauty</td>\n",
       "      <td>35985.6</td>\n",
       "      <td>7</td>\n",
       "      <td>12594.96</td>\n",
       "      <td>264494.16</td>\n",
       "      <td>1/23/2019</td>\n",
       "      <td>10:33</td>\n",
       "      <td>Cash</td>\n",
       "      <td>251899.2</td>\n",
       "      <td>4.761905</td>\n",
       "      <td>12594.96</td>\n",
       "      <td>6.1</td>\n",
       "    </tr>\n",
       "    <tr>\n",
       "      <th>996</th>\n",
       "      <td>Port_Harcourt_Branch</td>\n",
       "      <td>C</td>\n",
       "      <td>Port Harcourt</td>\n",
       "      <td>Normal</td>\n",
       "      <td>Male</td>\n",
       "      <td>Electronic accessories</td>\n",
       "      <td>34693.2</td>\n",
       "      <td>7</td>\n",
       "      <td>12142.62</td>\n",
       "      <td>254995.02</td>\n",
       "      <td>1/9/2019</td>\n",
       "      <td>11:40</td>\n",
       "      <td>Cash</td>\n",
       "      <td>242852.4</td>\n",
       "      <td>4.761905</td>\n",
       "      <td>12142.62</td>\n",
       "      <td>6.0</td>\n",
       "    </tr>\n",
       "    <tr>\n",
       "      <th>997</th>\n",
       "      <td>Port_Harcourt_Branch</td>\n",
       "      <td>C</td>\n",
       "      <td>Port Harcourt</td>\n",
       "      <td>Member</td>\n",
       "      <td>Male</td>\n",
       "      <td>Electronic accessories</td>\n",
       "      <td>29642.4</td>\n",
       "      <td>10</td>\n",
       "      <td>14821.20</td>\n",
       "      <td>311245.20</td>\n",
       "      <td>3/29/2019</td>\n",
       "      <td>19:12</td>\n",
       "      <td>Epay</td>\n",
       "      <td>296424.0</td>\n",
       "      <td>4.761905</td>\n",
       "      <td>14821.20</td>\n",
       "      <td>4.3</td>\n",
       "    </tr>\n",
       "    <tr>\n",
       "      <th>998</th>\n",
       "      <td>Port_Harcourt_Branch</td>\n",
       "      <td>C</td>\n",
       "      <td>Port Harcourt</td>\n",
       "      <td>Member</td>\n",
       "      <td>Female</td>\n",
       "      <td>Electronic accessories</td>\n",
       "      <td>21942.0</td>\n",
       "      <td>1</td>\n",
       "      <td>1097.10</td>\n",
       "      <td>23039.10</td>\n",
       "      <td>2/18/2019</td>\n",
       "      <td>11:40</td>\n",
       "      <td>Epay</td>\n",
       "      <td>21942.0</td>\n",
       "      <td>4.761905</td>\n",
       "      <td>1097.10</td>\n",
       "      <td>5.9</td>\n",
       "    </tr>\n",
       "    <tr>\n",
       "      <th>999</th>\n",
       "      <td>Port_Harcourt_Branch</td>\n",
       "      <td>C</td>\n",
       "      <td>Port Harcourt</td>\n",
       "      <td>Normal</td>\n",
       "      <td>Male</td>\n",
       "      <td>Health and beauty</td>\n",
       "      <td>14526.0</td>\n",
       "      <td>1</td>\n",
       "      <td>726.30</td>\n",
       "      <td>15252.30</td>\n",
       "      <td>1/29/2019</td>\n",
       "      <td>13:46</td>\n",
       "      <td>Epay</td>\n",
       "      <td>14526.0</td>\n",
       "      <td>4.761905</td>\n",
       "      <td>726.30</td>\n",
       "      <td>6.2</td>\n",
       "    </tr>\n",
       "  </tbody>\n",
       "</table>\n",
       "<p>1000 rows × 17 columns</p>\n",
       "</div>"
      ],
      "text/plain": [
       "               Invoice ID Branch           City Customer type  Gender  \\\n",
       "0            Abuja_Branch      B          Abuja        Member  Female   \n",
       "1            Abuja_Branch      B          Abuja        Member  Female   \n",
       "2            Abuja_Branch      B          Abuja        Member    Male   \n",
       "3            Abuja_Branch      B          Abuja        Member  Female   \n",
       "4            Abuja_Branch      B          Abuja        Normal  Female   \n",
       "..                    ...    ...            ...           ...     ...   \n",
       "995  Port_Harcourt_Branch      C  Port Harcourt        Normal    Male   \n",
       "996  Port_Harcourt_Branch      C  Port Harcourt        Normal    Male   \n",
       "997  Port_Harcourt_Branch      C  Port Harcourt        Member    Male   \n",
       "998  Port_Harcourt_Branch      C  Port Harcourt        Member  Female   \n",
       "999  Port_Harcourt_Branch      C  Port Harcourt        Normal    Male   \n",
       "\n",
       "               Product line  Unit price  Quantity    Tax 5%      Total  \\\n",
       "0        Food and beverages     19742.4         3   2961.36   62188.56   \n",
       "1       Fashion accessories      5212.8         4   1042.56   21893.76   \n",
       "2    Electronic accessories      9183.6         4   1836.72   38571.12   \n",
       "3         Sports and travel     33739.2         6  10121.76  212556.96   \n",
       "4        Home and lifestyle     14508.0         2   1450.80   30466.80   \n",
       "..                      ...         ...       ...       ...        ...   \n",
       "995       Health and beauty     35985.6         7  12594.96  264494.16   \n",
       "996  Electronic accessories     34693.2         7  12142.62  254995.02   \n",
       "997  Electronic accessories     29642.4        10  14821.20  311245.20   \n",
       "998  Electronic accessories     21942.0         1   1097.10   23039.10   \n",
       "999       Health and beauty     14526.0         1    726.30   15252.30   \n",
       "\n",
       "          Date   Time Payment      cogs  gross margin percentage  \\\n",
       "0    2/20/2019  13:27    Card   59227.2                 4.761905   \n",
       "1     2/6/2019  18:07    Epay   20851.2                 4.761905   \n",
       "2     3/9/2019  17:03    Cash   36734.4                 4.761905   \n",
       "3    1/15/2019  16:19    Cash  202435.2                 4.761905   \n",
       "4    3/11/2019  15:30    Epay   29016.0                 4.761905   \n",
       "..         ...    ...     ...       ...                      ...   \n",
       "995  1/23/2019  10:33    Cash  251899.2                 4.761905   \n",
       "996   1/9/2019  11:40    Cash  242852.4                 4.761905   \n",
       "997  3/29/2019  19:12    Epay  296424.0                 4.761905   \n",
       "998  2/18/2019  11:40    Epay   21942.0                 4.761905   \n",
       "999  1/29/2019  13:46    Epay   14526.0                 4.761905   \n",
       "\n",
       "     gross income  Rating  \n",
       "0         2961.36     5.9  \n",
       "1         1042.56     4.5  \n",
       "2         1836.72     6.8  \n",
       "3        10121.76     4.5  \n",
       "4         1450.80     4.4  \n",
       "..            ...     ...  \n",
       "995      12594.96     6.1  \n",
       "996      12142.62     6.0  \n",
       "997      14821.20     4.3  \n",
       "998       1097.10     5.9  \n",
       "999        726.30     6.2  \n",
       "\n",
       "[1000 rows x 17 columns]"
      ]
     },
     "execution_count": 5,
     "metadata": {},
     "output_type": "execute_result"
    }
   ],
   "source": [
    "data"
   ]
  },
  {
   "cell_type": "markdown",
   "id": "2d9b3557",
   "metadata": {},
   "source": [
    "## Step 2 - Data Exploration\n",
    "\n",
    "In this step, you will explore the loaded dataset using some built-in Pandas function. You expected to begin to think about your analytical approach from here. You can include other methods that you might think will make your exploration process easier. For Instance, you can write a function that print out a summary of the missing data occurence in the data. Be sure to document these methods using markdown and in-line comments."
   ]
  },
  {
   "cell_type": "markdown",
   "id": "c852a413",
   "metadata": {},
   "source": [
    "### Import Libraries"
   ]
  },
  {
   "cell_type": "code",
   "execution_count": 6,
   "id": "f61d9e32",
   "metadata": {},
   "outputs": [],
   "source": [
    "import pandas as pd\n",
    "import numpy as np\n",
    "import seaborn as sns\n",
    "import matplotlib.pyplot as plt\n",
    "%matplotlib inline\n",
    "plt.style.use('fivethirtyeight')\n",
    "import warnings\n",
    "warnings.filterwarnings('ignore')"
   ]
  },
  {
   "cell_type": "markdown",
   "id": "4ac60dbb",
   "metadata": {},
   "source": [
    "### Use the head() method to view first few rows of dataset"
   ]
  },
  {
   "cell_type": "code",
   "execution_count": 7,
   "id": "8b40cab4",
   "metadata": {},
   "outputs": [
    {
     "data": {
      "text/html": [
       "<div>\n",
       "<style scoped>\n",
       "    .dataframe tbody tr th:only-of-type {\n",
       "        vertical-align: middle;\n",
       "    }\n",
       "\n",
       "    .dataframe tbody tr th {\n",
       "        vertical-align: top;\n",
       "    }\n",
       "\n",
       "    .dataframe thead th {\n",
       "        text-align: right;\n",
       "    }\n",
       "</style>\n",
       "<table border=\"1\" class=\"dataframe\">\n",
       "  <thead>\n",
       "    <tr style=\"text-align: right;\">\n",
       "      <th></th>\n",
       "      <th>Invoice ID</th>\n",
       "      <th>Branch</th>\n",
       "      <th>City</th>\n",
       "      <th>Customer type</th>\n",
       "      <th>Gender</th>\n",
       "      <th>Product line</th>\n",
       "      <th>Unit price</th>\n",
       "      <th>Quantity</th>\n",
       "      <th>Tax 5%</th>\n",
       "      <th>Total</th>\n",
       "      <th>Date</th>\n",
       "      <th>Time</th>\n",
       "      <th>Payment</th>\n",
       "      <th>cogs</th>\n",
       "      <th>gross margin percentage</th>\n",
       "      <th>gross income</th>\n",
       "      <th>Rating</th>\n",
       "    </tr>\n",
       "  </thead>\n",
       "  <tbody>\n",
       "    <tr>\n",
       "      <th>0</th>\n",
       "      <td>Abuja_Branch</td>\n",
       "      <td>B</td>\n",
       "      <td>Abuja</td>\n",
       "      <td>Member</td>\n",
       "      <td>Female</td>\n",
       "      <td>Food and beverages</td>\n",
       "      <td>19742.4</td>\n",
       "      <td>3</td>\n",
       "      <td>2961.36</td>\n",
       "      <td>62188.56</td>\n",
       "      <td>2/20/2019</td>\n",
       "      <td>13:27</td>\n",
       "      <td>Card</td>\n",
       "      <td>59227.2</td>\n",
       "      <td>4.761905</td>\n",
       "      <td>2961.36</td>\n",
       "      <td>5.9</td>\n",
       "    </tr>\n",
       "    <tr>\n",
       "      <th>1</th>\n",
       "      <td>Abuja_Branch</td>\n",
       "      <td>B</td>\n",
       "      <td>Abuja</td>\n",
       "      <td>Member</td>\n",
       "      <td>Female</td>\n",
       "      <td>Fashion accessories</td>\n",
       "      <td>5212.8</td>\n",
       "      <td>4</td>\n",
       "      <td>1042.56</td>\n",
       "      <td>21893.76</td>\n",
       "      <td>2/6/2019</td>\n",
       "      <td>18:07</td>\n",
       "      <td>Epay</td>\n",
       "      <td>20851.2</td>\n",
       "      <td>4.761905</td>\n",
       "      <td>1042.56</td>\n",
       "      <td>4.5</td>\n",
       "    </tr>\n",
       "    <tr>\n",
       "      <th>2</th>\n",
       "      <td>Abuja_Branch</td>\n",
       "      <td>B</td>\n",
       "      <td>Abuja</td>\n",
       "      <td>Member</td>\n",
       "      <td>Male</td>\n",
       "      <td>Electronic accessories</td>\n",
       "      <td>9183.6</td>\n",
       "      <td>4</td>\n",
       "      <td>1836.72</td>\n",
       "      <td>38571.12</td>\n",
       "      <td>3/9/2019</td>\n",
       "      <td>17:03</td>\n",
       "      <td>Cash</td>\n",
       "      <td>36734.4</td>\n",
       "      <td>4.761905</td>\n",
       "      <td>1836.72</td>\n",
       "      <td>6.8</td>\n",
       "    </tr>\n",
       "    <tr>\n",
       "      <th>3</th>\n",
       "      <td>Abuja_Branch</td>\n",
       "      <td>B</td>\n",
       "      <td>Abuja</td>\n",
       "      <td>Member</td>\n",
       "      <td>Female</td>\n",
       "      <td>Sports and travel</td>\n",
       "      <td>33739.2</td>\n",
       "      <td>6</td>\n",
       "      <td>10121.76</td>\n",
       "      <td>212556.96</td>\n",
       "      <td>1/15/2019</td>\n",
       "      <td>16:19</td>\n",
       "      <td>Cash</td>\n",
       "      <td>202435.2</td>\n",
       "      <td>4.761905</td>\n",
       "      <td>10121.76</td>\n",
       "      <td>4.5</td>\n",
       "    </tr>\n",
       "    <tr>\n",
       "      <th>4</th>\n",
       "      <td>Abuja_Branch</td>\n",
       "      <td>B</td>\n",
       "      <td>Abuja</td>\n",
       "      <td>Normal</td>\n",
       "      <td>Female</td>\n",
       "      <td>Home and lifestyle</td>\n",
       "      <td>14508.0</td>\n",
       "      <td>2</td>\n",
       "      <td>1450.80</td>\n",
       "      <td>30466.80</td>\n",
       "      <td>3/11/2019</td>\n",
       "      <td>15:30</td>\n",
       "      <td>Epay</td>\n",
       "      <td>29016.0</td>\n",
       "      <td>4.761905</td>\n",
       "      <td>1450.80</td>\n",
       "      <td>4.4</td>\n",
       "    </tr>\n",
       "  </tbody>\n",
       "</table>\n",
       "</div>"
      ],
      "text/plain": [
       "     Invoice ID Branch   City Customer type  Gender            Product line  \\\n",
       "0  Abuja_Branch      B  Abuja        Member  Female      Food and beverages   \n",
       "1  Abuja_Branch      B  Abuja        Member  Female     Fashion accessories   \n",
       "2  Abuja_Branch      B  Abuja        Member    Male  Electronic accessories   \n",
       "3  Abuja_Branch      B  Abuja        Member  Female       Sports and travel   \n",
       "4  Abuja_Branch      B  Abuja        Normal  Female      Home and lifestyle   \n",
       "\n",
       "   Unit price  Quantity    Tax 5%      Total       Date   Time Payment  \\\n",
       "0     19742.4         3   2961.36   62188.56  2/20/2019  13:27    Card   \n",
       "1      5212.8         4   1042.56   21893.76   2/6/2019  18:07    Epay   \n",
       "2      9183.6         4   1836.72   38571.12   3/9/2019  17:03    Cash   \n",
       "3     33739.2         6  10121.76  212556.96  1/15/2019  16:19    Cash   \n",
       "4     14508.0         2   1450.80   30466.80  3/11/2019  15:30    Epay   \n",
       "\n",
       "       cogs  gross margin percentage  gross income  Rating  \n",
       "0   59227.2                 4.761905       2961.36     5.9  \n",
       "1   20851.2                 4.761905       1042.56     4.5  \n",
       "2   36734.4                 4.761905       1836.72     6.8  \n",
       "3  202435.2                 4.761905      10121.76     4.5  \n",
       "4   29016.0                 4.761905       1450.80     4.4  "
      ]
     },
     "execution_count": 7,
     "metadata": {},
     "output_type": "execute_result"
    }
   ],
   "source": [
    "data.head()"
   ]
  },
  {
   "cell_type": "markdown",
   "id": "2a25abd2",
   "metadata": {},
   "source": [
    "### Check the number of rows and column present in the dataset using the shape attribute"
   ]
  },
  {
   "cell_type": "code",
   "execution_count": 8,
   "id": "cc37330d",
   "metadata": {},
   "outputs": [
    {
     "data": {
      "text/plain": [
       "(1000, 17)"
      ]
     },
     "execution_count": 8,
     "metadata": {},
     "output_type": "execute_result"
    }
   ],
   "source": [
    "data.shape"
   ]
  },
  {
   "cell_type": "markdown",
   "id": "8d1e6cec",
   "metadata": {},
   "source": [
    "#### The Data contains 1000 rows and 17 columns"
   ]
  },
  {
   "cell_type": "markdown",
   "id": "630e8885",
   "metadata": {},
   "source": [
    "\n",
    "### To Generate the names of the column using the column attribute"
   ]
  },
  {
   "cell_type": "code",
   "execution_count": 9,
   "id": "e4af7bb7",
   "metadata": {},
   "outputs": [
    {
     "data": {
      "text/plain": [
       "Index(['Invoice ID', 'Branch', 'City', 'Customer type', 'Gender',\n",
       "       'Product line', 'Unit price', 'Quantity', 'Tax 5%', 'Total', 'Date',\n",
       "       'Time', 'Payment', 'cogs', 'gross margin percentage', 'gross income',\n",
       "       'Rating'],\n",
       "      dtype='object')"
      ]
     },
     "execution_count": 9,
     "metadata": {},
     "output_type": "execute_result"
    }
   ],
   "source": [
    "data.columns"
   ]
  },
  {
   "cell_type": "code",
   "execution_count": 10,
   "id": "778fcd8d",
   "metadata": {},
   "outputs": [],
   "source": [
    "columns = pd.DataFrame(data.columns, columns= ['columns'])"
   ]
  },
  {
   "cell_type": "code",
   "execution_count": 11,
   "id": "09131582",
   "metadata": {},
   "outputs": [
    {
     "data": {
      "text/html": [
       "<div>\n",
       "<style scoped>\n",
       "    .dataframe tbody tr th:only-of-type {\n",
       "        vertical-align: middle;\n",
       "    }\n",
       "\n",
       "    .dataframe tbody tr th {\n",
       "        vertical-align: top;\n",
       "    }\n",
       "\n",
       "    .dataframe thead th {\n",
       "        text-align: right;\n",
       "    }\n",
       "</style>\n",
       "<table border=\"1\" class=\"dataframe\">\n",
       "  <thead>\n",
       "    <tr style=\"text-align: right;\">\n",
       "      <th></th>\n",
       "      <th>columns</th>\n",
       "    </tr>\n",
       "  </thead>\n",
       "  <tbody>\n",
       "    <tr>\n",
       "      <th>0</th>\n",
       "      <td>Invoice ID</td>\n",
       "    </tr>\n",
       "    <tr>\n",
       "      <th>1</th>\n",
       "      <td>Branch</td>\n",
       "    </tr>\n",
       "    <tr>\n",
       "      <th>2</th>\n",
       "      <td>City</td>\n",
       "    </tr>\n",
       "    <tr>\n",
       "      <th>3</th>\n",
       "      <td>Customer type</td>\n",
       "    </tr>\n",
       "    <tr>\n",
       "      <th>4</th>\n",
       "      <td>Gender</td>\n",
       "    </tr>\n",
       "    <tr>\n",
       "      <th>5</th>\n",
       "      <td>Product line</td>\n",
       "    </tr>\n",
       "    <tr>\n",
       "      <th>6</th>\n",
       "      <td>Unit price</td>\n",
       "    </tr>\n",
       "    <tr>\n",
       "      <th>7</th>\n",
       "      <td>Quantity</td>\n",
       "    </tr>\n",
       "    <tr>\n",
       "      <th>8</th>\n",
       "      <td>Tax 5%</td>\n",
       "    </tr>\n",
       "    <tr>\n",
       "      <th>9</th>\n",
       "      <td>Total</td>\n",
       "    </tr>\n",
       "    <tr>\n",
       "      <th>10</th>\n",
       "      <td>Date</td>\n",
       "    </tr>\n",
       "    <tr>\n",
       "      <th>11</th>\n",
       "      <td>Time</td>\n",
       "    </tr>\n",
       "    <tr>\n",
       "      <th>12</th>\n",
       "      <td>Payment</td>\n",
       "    </tr>\n",
       "    <tr>\n",
       "      <th>13</th>\n",
       "      <td>cogs</td>\n",
       "    </tr>\n",
       "    <tr>\n",
       "      <th>14</th>\n",
       "      <td>gross margin percentage</td>\n",
       "    </tr>\n",
       "    <tr>\n",
       "      <th>15</th>\n",
       "      <td>gross income</td>\n",
       "    </tr>\n",
       "    <tr>\n",
       "      <th>16</th>\n",
       "      <td>Rating</td>\n",
       "    </tr>\n",
       "  </tbody>\n",
       "</table>\n",
       "</div>"
      ],
      "text/plain": [
       "                    columns\n",
       "0                Invoice ID\n",
       "1                    Branch\n",
       "2                      City\n",
       "3             Customer type\n",
       "4                    Gender\n",
       "5              Product line\n",
       "6                Unit price\n",
       "7                  Quantity\n",
       "8                    Tax 5%\n",
       "9                     Total\n",
       "10                     Date\n",
       "11                     Time\n",
       "12                  Payment\n",
       "13                     cogs\n",
       "14  gross margin percentage\n",
       "15             gross income\n",
       "16                   Rating"
      ]
     },
     "execution_count": 11,
     "metadata": {},
     "output_type": "execute_result"
    }
   ],
   "source": [
    "columns"
   ]
  },
  {
   "cell_type": "markdown",
   "id": "5b6cd197",
   "metadata": {},
   "source": [
    "### Column Description:\n",
    "\n",
    "Invoice ID: Customer Identification number \n",
    "\n",
    "Branch: Supermarket Branch across the country (A, B, C) A - Lagos Branch, B - Abuja Branch, C - Port Harcourt Branch\n",
    "\n",
    "City: Supermarket Location\n",
    "\n",
    "Customer Type: Type of customers, Members - Returning customer with membership card, Normal - Customer without membership (could be returning, first-time or walk-in customer)\n",
    "\n",
    "Gender: Customer Gender Information\n",
    "\n",
    "Product line: Product categorization groups - Electronic accessories, Fashion accessories, Food and beverages, Health and beauty, Home and lifestyle, Sports and travel\n",
    "\n",
    "Unit Price: Price of each product in Naira\n",
    "\n",
    "Quantity: Number of products purchased by customer\n",
    "\n",
    "Tax: 5% tax fee for customer buying\n",
    "\n",
    "Total: Total price including tax\n",
    "\n",
    "Date: Date of purchase (Supermarket Record available from January 2019 to March 2019)\n",
    "\n",
    "Time: Purchase time (Supermarket Hours - 10am to 9pm)\n",
    "\n",
    "Payment: Payment used by customer for purchase (3 methods are available – Cash, Card and Epay)\n",
    "\n",
    "COGS: Cost of goods sold\n",
    "\n",
    "Gross margin percentage: Gross margin percentage\n",
    "\n",
    "Gross income: Gross income\n",
    "\n",
    "Rating: Customer Satisfaction rating on their overall shopping experience (On a scale of 1 to 10) "
   ]
  },
  {
   "cell_type": "markdown",
   "id": "715b9266",
   "metadata": {},
   "source": [
    "### Use describe function to generate the statistical summary of the dataframe"
   ]
  },
  {
   "cell_type": "code",
   "execution_count": 12,
   "id": "c96922e2",
   "metadata": {},
   "outputs": [
    {
     "data": {
      "text/html": [
       "<div>\n",
       "<style scoped>\n",
       "    .dataframe tbody tr th:only-of-type {\n",
       "        vertical-align: middle;\n",
       "    }\n",
       "\n",
       "    .dataframe tbody tr th {\n",
       "        vertical-align: top;\n",
       "    }\n",
       "\n",
       "    .dataframe thead th {\n",
       "        text-align: right;\n",
       "    }\n",
       "</style>\n",
       "<table border=\"1\" class=\"dataframe\">\n",
       "  <thead>\n",
       "    <tr style=\"text-align: right;\">\n",
       "      <th></th>\n",
       "      <th>Unit price</th>\n",
       "      <th>Quantity</th>\n",
       "      <th>Tax 5%</th>\n",
       "      <th>Total</th>\n",
       "      <th>cogs</th>\n",
       "      <th>gross margin percentage</th>\n",
       "      <th>gross income</th>\n",
       "      <th>Rating</th>\n",
       "    </tr>\n",
       "  </thead>\n",
       "  <tbody>\n",
       "    <tr>\n",
       "      <th>count</th>\n",
       "      <td>1000.000000</td>\n",
       "      <td>1000.000000</td>\n",
       "      <td>1000.000000</td>\n",
       "      <td>1000.000000</td>\n",
       "      <td>1000.000000</td>\n",
       "      <td>1.000000e+03</td>\n",
       "      <td>1000.000000</td>\n",
       "      <td>1000.00000</td>\n",
       "    </tr>\n",
       "    <tr>\n",
       "      <th>mean</th>\n",
       "      <td>20041.966800</td>\n",
       "      <td>5.510000</td>\n",
       "      <td>5536.572840</td>\n",
       "      <td>116268.029640</td>\n",
       "      <td>110731.456800</td>\n",
       "      <td>4.761905e+00</td>\n",
       "      <td>5536.572840</td>\n",
       "      <td>6.97270</td>\n",
       "    </tr>\n",
       "    <tr>\n",
       "      <th>std</th>\n",
       "      <td>9538.066205</td>\n",
       "      <td>2.923431</td>\n",
       "      <td>4215.177173</td>\n",
       "      <td>88518.720636</td>\n",
       "      <td>84303.543463</td>\n",
       "      <td>6.131498e-14</td>\n",
       "      <td>4215.177173</td>\n",
       "      <td>1.71858</td>\n",
       "    </tr>\n",
       "    <tr>\n",
       "      <th>min</th>\n",
       "      <td>3628.800000</td>\n",
       "      <td>1.000000</td>\n",
       "      <td>183.060000</td>\n",
       "      <td>3844.260000</td>\n",
       "      <td>3661.200000</td>\n",
       "      <td>4.761905e+00</td>\n",
       "      <td>183.060000</td>\n",
       "      <td>4.00000</td>\n",
       "    </tr>\n",
       "    <tr>\n",
       "      <th>25%</th>\n",
       "      <td>11835.000000</td>\n",
       "      <td>3.000000</td>\n",
       "      <td>2132.955000</td>\n",
       "      <td>44792.055000</td>\n",
       "      <td>42659.100000</td>\n",
       "      <td>4.761905e+00</td>\n",
       "      <td>2132.955000</td>\n",
       "      <td>5.50000</td>\n",
       "    </tr>\n",
       "    <tr>\n",
       "      <th>50%</th>\n",
       "      <td>19882.800000</td>\n",
       "      <td>5.000000</td>\n",
       "      <td>4351.680000</td>\n",
       "      <td>91385.280000</td>\n",
       "      <td>87033.600000</td>\n",
       "      <td>4.761905e+00</td>\n",
       "      <td>4351.680000</td>\n",
       "      <td>7.00000</td>\n",
       "    </tr>\n",
       "    <tr>\n",
       "      <th>75%</th>\n",
       "      <td>28056.600000</td>\n",
       "      <td>8.000000</td>\n",
       "      <td>8080.290000</td>\n",
       "      <td>169686.090000</td>\n",
       "      <td>161605.800000</td>\n",
       "      <td>4.761905e+00</td>\n",
       "      <td>8080.290000</td>\n",
       "      <td>8.50000</td>\n",
       "    </tr>\n",
       "    <tr>\n",
       "      <th>max</th>\n",
       "      <td>35985.600000</td>\n",
       "      <td>10.000000</td>\n",
       "      <td>17874.000000</td>\n",
       "      <td>375354.000000</td>\n",
       "      <td>357480.000000</td>\n",
       "      <td>4.761905e+00</td>\n",
       "      <td>17874.000000</td>\n",
       "      <td>10.00000</td>\n",
       "    </tr>\n",
       "  </tbody>\n",
       "</table>\n",
       "</div>"
      ],
      "text/plain": [
       "         Unit price     Quantity        Tax 5%          Total           cogs  \\\n",
       "count   1000.000000  1000.000000   1000.000000    1000.000000    1000.000000   \n",
       "mean   20041.966800     5.510000   5536.572840  116268.029640  110731.456800   \n",
       "std     9538.066205     2.923431   4215.177173   88518.720636   84303.543463   \n",
       "min     3628.800000     1.000000    183.060000    3844.260000    3661.200000   \n",
       "25%    11835.000000     3.000000   2132.955000   44792.055000   42659.100000   \n",
       "50%    19882.800000     5.000000   4351.680000   91385.280000   87033.600000   \n",
       "75%    28056.600000     8.000000   8080.290000  169686.090000  161605.800000   \n",
       "max    35985.600000    10.000000  17874.000000  375354.000000  357480.000000   \n",
       "\n",
       "       gross margin percentage  gross income      Rating  \n",
       "count             1.000000e+03   1000.000000  1000.00000  \n",
       "mean              4.761905e+00   5536.572840     6.97270  \n",
       "std               6.131498e-14   4215.177173     1.71858  \n",
       "min               4.761905e+00    183.060000     4.00000  \n",
       "25%               4.761905e+00   2132.955000     5.50000  \n",
       "50%               4.761905e+00   4351.680000     7.00000  \n",
       "75%               4.761905e+00   8080.290000     8.50000  \n",
       "max               4.761905e+00  17874.000000    10.00000  "
      ]
     },
     "execution_count": 12,
     "metadata": {},
     "output_type": "execute_result"
    }
   ],
   "source": [
    "data.describe()"
   ]
  },
  {
   "cell_type": "markdown",
   "id": "9f88fa91",
   "metadata": {},
   "source": [
    "The different statistical measures gotten from describe() are:\n",
    "\n",
    "• count: total count of non-null values in the column.\n",
    "\n",
    "• mean: the average of all the values in that column.\n",
    "\n",
    "• min: the minimum value in the column.\n",
    "\n",
    "• max: the maximum value in the column.\n",
    "\n",
    "• 25%: first quartile in the column after we arrange those values in ascending order.\n",
    "\n",
    "• 50%: this is the median or the second quartile.\n",
    "\n",
    "• 75%: the third quartile.\n",
    "\n",
    "• std: this is the standard deviation (i.e. measure of depreciation in the basics of statistics study material).\n",
    "\n",
    "Note: 25%, 50%, and 75% are nothing but corresponding percentile values.\n",
    "\n",
    "\n",
    "\n",
    "# Below the cell, is what was derived from the data statistical summary:\n",
    "\n",
    "\n",
    "The approximate average unit price and quantity are ₦20,000 and 6 units respectively making our total sales/revenue to be around ₦120,000 without incurring tax.\n",
    "\n",
    "The tax on the supermarket is about 4.5% of the total sales\n",
    "\n",
    "After accounting for tax the average total value is found to be around ₦116,000.\n",
    "\n",
    "#### Formula:\n",
    "Gross Profit= Net sales - Cost of goods sold.\n",
    "\n",
    "Gross Profit Percentage= Gross Profit/ net sales x 100.\n",
    "\n",
    "Knowing that the average cost of goods sold is apporximately ₦110,700 and the gross income is approximately ₦5,537 it informs us that the average sales made within the timeframe is about ₦115,000.\n",
    "\n",
    "The average rating is 6.97 indicating that the supermarket is doing slightly better above average implying that more work needs to be done to improve the companies services and products availability to customers.\n"
   ]
  },
  {
   "cell_type": "markdown",
   "id": "7a5c23dc",
   "metadata": {},
   "source": [
    "### Use of correct method to check for Missing values\n",
    "\n",
    "The isnull, and notna methods can provide a quick overview of the missing data occurence, use that to observe the presence of missing data in the dataset. You can add the sum method to get a summary and not boolean values."
   ]
  },
  {
   "cell_type": "code",
   "execution_count": 13,
   "id": "bac65c2c",
   "metadata": {},
   "outputs": [
    {
     "data": {
      "text/plain": [
       "Invoice ID                 0\n",
       "Branch                     0\n",
       "City                       0\n",
       "Customer type              0\n",
       "Gender                     0\n",
       "Product line               0\n",
       "Unit price                 0\n",
       "Quantity                   0\n",
       "Tax 5%                     0\n",
       "Total                      0\n",
       "Date                       0\n",
       "Time                       0\n",
       "Payment                    0\n",
       "cogs                       0\n",
       "gross margin percentage    0\n",
       "gross income               0\n",
       "Rating                     0\n",
       "dtype: int64"
      ]
     },
     "execution_count": 13,
     "metadata": {},
     "output_type": "execute_result"
    }
   ],
   "source": [
    "data.isnull().sum()"
   ]
  },
  {
   "cell_type": "markdown",
   "id": "33f183f1",
   "metadata": {},
   "source": [
    "#### There is no null or missing value in the dataset."
   ]
  },
  {
   "cell_type": "markdown",
   "id": "4a9c2093",
   "metadata": {},
   "source": [
    "## To Check the information of the DataFrame using the info method.\n",
    "\n",
    "The info() function is used to print a concise summary of a DataFrame. This method prints information about a DataFrame including the index dtype and column dtypes, non-null values and memory usage."
   ]
  },
  {
   "cell_type": "code",
   "execution_count": 14,
   "id": "6de8c814",
   "metadata": {},
   "outputs": [
    {
     "name": "stdout",
     "output_type": "stream",
     "text": [
      "<class 'pandas.core.frame.DataFrame'>\n",
      "RangeIndex: 1000 entries, 0 to 999\n",
      "Data columns (total 17 columns):\n",
      " #   Column                   Non-Null Count  Dtype  \n",
      "---  ------                   --------------  -----  \n",
      " 0   Invoice ID               1000 non-null   object \n",
      " 1   Branch                   1000 non-null   object \n",
      " 2   City                     1000 non-null   object \n",
      " 3   Customer type            1000 non-null   object \n",
      " 4   Gender                   1000 non-null   object \n",
      " 5   Product line             1000 non-null   object \n",
      " 6   Unit price               1000 non-null   float64\n",
      " 7   Quantity                 1000 non-null   int64  \n",
      " 8   Tax 5%                   1000 non-null   float64\n",
      " 9   Total                    1000 non-null   float64\n",
      " 10  Date                     1000 non-null   object \n",
      " 11  Time                     1000 non-null   object \n",
      " 12  Payment                  1000 non-null   object \n",
      " 13  cogs                     1000 non-null   float64\n",
      " 14  gross margin percentage  1000 non-null   float64\n",
      " 15  gross income             1000 non-null   float64\n",
      " 16  Rating                   1000 non-null   float64\n",
      "dtypes: float64(7), int64(1), object(9)\n",
      "memory usage: 132.9+ KB\n"
     ]
    }
   ],
   "source": [
    "data.info()"
   ]
  },
  {
   "cell_type": "markdown",
   "id": "c46b0290",
   "metadata": {},
   "source": [
    "## Step 3 - Dealing with DateTime Features\n",
    "\n",
    "From the summary above, you can observe that the date and time columns are not in the appropriate data type you can convert to datetime datatype using the to_datetime() method. After that is done, use the type attribute to confirm the datatype."
   ]
  },
  {
   "cell_type": "markdown",
   "id": "75ecb077",
   "metadata": {},
   "source": [
    "### Use to_datetime() to convert the date column to datetime"
   ]
  },
  {
   "cell_type": "code",
   "execution_count": 15,
   "id": "2698bee7",
   "metadata": {},
   "outputs": [],
   "source": [
    "data['Date']=pd.to_datetime(data['Date'])"
   ]
  },
  {
   "cell_type": "code",
   "execution_count": 16,
   "id": "4c4b0565",
   "metadata": {},
   "outputs": [
    {
     "data": {
      "text/html": [
       "<div>\n",
       "<style scoped>\n",
       "    .dataframe tbody tr th:only-of-type {\n",
       "        vertical-align: middle;\n",
       "    }\n",
       "\n",
       "    .dataframe tbody tr th {\n",
       "        vertical-align: top;\n",
       "    }\n",
       "\n",
       "    .dataframe thead th {\n",
       "        text-align: right;\n",
       "    }\n",
       "</style>\n",
       "<table border=\"1\" class=\"dataframe\">\n",
       "  <thead>\n",
       "    <tr style=\"text-align: right;\">\n",
       "      <th></th>\n",
       "      <th>Invoice ID</th>\n",
       "      <th>Branch</th>\n",
       "      <th>City</th>\n",
       "      <th>Customer type</th>\n",
       "      <th>Gender</th>\n",
       "      <th>Product line</th>\n",
       "      <th>Unit price</th>\n",
       "      <th>Quantity</th>\n",
       "      <th>Tax 5%</th>\n",
       "      <th>Total</th>\n",
       "      <th>Date</th>\n",
       "      <th>Time</th>\n",
       "      <th>Payment</th>\n",
       "      <th>cogs</th>\n",
       "      <th>gross margin percentage</th>\n",
       "      <th>gross income</th>\n",
       "      <th>Rating</th>\n",
       "    </tr>\n",
       "  </thead>\n",
       "  <tbody>\n",
       "    <tr>\n",
       "      <th>0</th>\n",
       "      <td>Abuja_Branch</td>\n",
       "      <td>B</td>\n",
       "      <td>Abuja</td>\n",
       "      <td>Member</td>\n",
       "      <td>Female</td>\n",
       "      <td>Food and beverages</td>\n",
       "      <td>19742.4</td>\n",
       "      <td>3</td>\n",
       "      <td>2961.36</td>\n",
       "      <td>62188.56</td>\n",
       "      <td>2019-02-20</td>\n",
       "      <td>13:27</td>\n",
       "      <td>Card</td>\n",
       "      <td>59227.2</td>\n",
       "      <td>4.761905</td>\n",
       "      <td>2961.36</td>\n",
       "      <td>5.9</td>\n",
       "    </tr>\n",
       "    <tr>\n",
       "      <th>1</th>\n",
       "      <td>Abuja_Branch</td>\n",
       "      <td>B</td>\n",
       "      <td>Abuja</td>\n",
       "      <td>Member</td>\n",
       "      <td>Female</td>\n",
       "      <td>Fashion accessories</td>\n",
       "      <td>5212.8</td>\n",
       "      <td>4</td>\n",
       "      <td>1042.56</td>\n",
       "      <td>21893.76</td>\n",
       "      <td>2019-02-06</td>\n",
       "      <td>18:07</td>\n",
       "      <td>Epay</td>\n",
       "      <td>20851.2</td>\n",
       "      <td>4.761905</td>\n",
       "      <td>1042.56</td>\n",
       "      <td>4.5</td>\n",
       "    </tr>\n",
       "    <tr>\n",
       "      <th>2</th>\n",
       "      <td>Abuja_Branch</td>\n",
       "      <td>B</td>\n",
       "      <td>Abuja</td>\n",
       "      <td>Member</td>\n",
       "      <td>Male</td>\n",
       "      <td>Electronic accessories</td>\n",
       "      <td>9183.6</td>\n",
       "      <td>4</td>\n",
       "      <td>1836.72</td>\n",
       "      <td>38571.12</td>\n",
       "      <td>2019-03-09</td>\n",
       "      <td>17:03</td>\n",
       "      <td>Cash</td>\n",
       "      <td>36734.4</td>\n",
       "      <td>4.761905</td>\n",
       "      <td>1836.72</td>\n",
       "      <td>6.8</td>\n",
       "    </tr>\n",
       "    <tr>\n",
       "      <th>3</th>\n",
       "      <td>Abuja_Branch</td>\n",
       "      <td>B</td>\n",
       "      <td>Abuja</td>\n",
       "      <td>Member</td>\n",
       "      <td>Female</td>\n",
       "      <td>Sports and travel</td>\n",
       "      <td>33739.2</td>\n",
       "      <td>6</td>\n",
       "      <td>10121.76</td>\n",
       "      <td>212556.96</td>\n",
       "      <td>2019-01-15</td>\n",
       "      <td>16:19</td>\n",
       "      <td>Cash</td>\n",
       "      <td>202435.2</td>\n",
       "      <td>4.761905</td>\n",
       "      <td>10121.76</td>\n",
       "      <td>4.5</td>\n",
       "    </tr>\n",
       "    <tr>\n",
       "      <th>4</th>\n",
       "      <td>Abuja_Branch</td>\n",
       "      <td>B</td>\n",
       "      <td>Abuja</td>\n",
       "      <td>Normal</td>\n",
       "      <td>Female</td>\n",
       "      <td>Home and lifestyle</td>\n",
       "      <td>14508.0</td>\n",
       "      <td>2</td>\n",
       "      <td>1450.80</td>\n",
       "      <td>30466.80</td>\n",
       "      <td>2019-03-11</td>\n",
       "      <td>15:30</td>\n",
       "      <td>Epay</td>\n",
       "      <td>29016.0</td>\n",
       "      <td>4.761905</td>\n",
       "      <td>1450.80</td>\n",
       "      <td>4.4</td>\n",
       "    </tr>\n",
       "  </tbody>\n",
       "</table>\n",
       "</div>"
      ],
      "text/plain": [
       "     Invoice ID Branch   City Customer type  Gender            Product line  \\\n",
       "0  Abuja_Branch      B  Abuja        Member  Female      Food and beverages   \n",
       "1  Abuja_Branch      B  Abuja        Member  Female     Fashion accessories   \n",
       "2  Abuja_Branch      B  Abuja        Member    Male  Electronic accessories   \n",
       "3  Abuja_Branch      B  Abuja        Member  Female       Sports and travel   \n",
       "4  Abuja_Branch      B  Abuja        Normal  Female      Home and lifestyle   \n",
       "\n",
       "   Unit price  Quantity    Tax 5%      Total       Date   Time Payment  \\\n",
       "0     19742.4         3   2961.36   62188.56 2019-02-20  13:27    Card   \n",
       "1      5212.8         4   1042.56   21893.76 2019-02-06  18:07    Epay   \n",
       "2      9183.6         4   1836.72   38571.12 2019-03-09  17:03    Cash   \n",
       "3     33739.2         6  10121.76  212556.96 2019-01-15  16:19    Cash   \n",
       "4     14508.0         2   1450.80   30466.80 2019-03-11  15:30    Epay   \n",
       "\n",
       "       cogs  gross margin percentage  gross income  Rating  \n",
       "0   59227.2                 4.761905       2961.36     5.9  \n",
       "1   20851.2                 4.761905       1042.56     4.5  \n",
       "2   36734.4                 4.761905       1836.72     6.8  \n",
       "3  202435.2                 4.761905      10121.76     4.5  \n",
       "4   29016.0                 4.761905       1450.80     4.4  "
      ]
     },
     "execution_count": 16,
     "metadata": {},
     "output_type": "execute_result"
    }
   ],
   "source": [
    "data.head()"
   ]
  },
  {
   "cell_type": "markdown",
   "id": "1781000a",
   "metadata": {},
   "source": [
    "### To confirm if the datatype is in datetime"
   ]
  },
  {
   "cell_type": "code",
   "execution_count": 17,
   "id": "65974a33",
   "metadata": {},
   "outputs": [
    {
     "name": "stdout",
     "output_type": "stream",
     "text": [
      "<class 'pandas.core.frame.DataFrame'>\n",
      "RangeIndex: 1000 entries, 0 to 999\n",
      "Data columns (total 17 columns):\n",
      " #   Column                   Non-Null Count  Dtype         \n",
      "---  ------                   --------------  -----         \n",
      " 0   Invoice ID               1000 non-null   object        \n",
      " 1   Branch                   1000 non-null   object        \n",
      " 2   City                     1000 non-null   object        \n",
      " 3   Customer type            1000 non-null   object        \n",
      " 4   Gender                   1000 non-null   object        \n",
      " 5   Product line             1000 non-null   object        \n",
      " 6   Unit price               1000 non-null   float64       \n",
      " 7   Quantity                 1000 non-null   int64         \n",
      " 8   Tax 5%                   1000 non-null   float64       \n",
      " 9   Total                    1000 non-null   float64       \n",
      " 10  Date                     1000 non-null   datetime64[ns]\n",
      " 11  Time                     1000 non-null   object        \n",
      " 12  Payment                  1000 non-null   object        \n",
      " 13  cogs                     1000 non-null   float64       \n",
      " 14  gross margin percentage  1000 non-null   float64       \n",
      " 15  gross income             1000 non-null   float64       \n",
      " 16  Rating                   1000 non-null   float64       \n",
      "dtypes: datetime64[ns](1), float64(7), int64(1), object(8)\n",
      "memory usage: 132.9+ KB\n"
     ]
    }
   ],
   "source": [
    "data.info()"
   ]
  },
  {
   "cell_type": "code",
   "execution_count": 18,
   "id": "b55a73c3",
   "metadata": {},
   "outputs": [
    {
     "data": {
      "text/plain": [
       "dtype('<M8[ns]')"
      ]
     },
     "execution_count": 18,
     "metadata": {},
     "output_type": "execute_result"
    }
   ],
   "source": [
    "data['Date'].dtype"
   ]
  },
  {
   "cell_type": "markdown",
   "id": "c65e9ea6",
   "metadata": {},
   "source": [
    "### Repeat the two steps above to the time column"
   ]
  },
  {
   "cell_type": "code",
   "execution_count": 19,
   "id": "98a53cf0",
   "metadata": {},
   "outputs": [],
   "source": [
    "data['Time']=pd.to_datetime(data['Time'])"
   ]
  },
  {
   "cell_type": "code",
   "execution_count": 20,
   "id": "bdd30917",
   "metadata": {},
   "outputs": [
    {
     "data": {
      "text/plain": [
       "dtype('<M8[ns]')"
      ]
     },
     "execution_count": 20,
     "metadata": {},
     "output_type": "execute_result"
    }
   ],
   "source": [
    "data['Time'].dtype"
   ]
  },
  {
   "cell_type": "code",
   "execution_count": 21,
   "id": "81df5a0f",
   "metadata": {},
   "outputs": [
    {
     "name": "stdout",
     "output_type": "stream",
     "text": [
      "<class 'pandas.core.frame.DataFrame'>\n",
      "RangeIndex: 1000 entries, 0 to 999\n",
      "Data columns (total 17 columns):\n",
      " #   Column                   Non-Null Count  Dtype         \n",
      "---  ------                   --------------  -----         \n",
      " 0   Invoice ID               1000 non-null   object        \n",
      " 1   Branch                   1000 non-null   object        \n",
      " 2   City                     1000 non-null   object        \n",
      " 3   Customer type            1000 non-null   object        \n",
      " 4   Gender                   1000 non-null   object        \n",
      " 5   Product line             1000 non-null   object        \n",
      " 6   Unit price               1000 non-null   float64       \n",
      " 7   Quantity                 1000 non-null   int64         \n",
      " 8   Tax 5%                   1000 non-null   float64       \n",
      " 9   Total                    1000 non-null   float64       \n",
      " 10  Date                     1000 non-null   datetime64[ns]\n",
      " 11  Time                     1000 non-null   datetime64[ns]\n",
      " 12  Payment                  1000 non-null   object        \n",
      " 13  cogs                     1000 non-null   float64       \n",
      " 14  gross margin percentage  1000 non-null   float64       \n",
      " 15  gross income             1000 non-null   float64       \n",
      " 16  Rating                   1000 non-null   float64       \n",
      "dtypes: datetime64[ns](2), float64(7), int64(1), object(7)\n",
      "memory usage: 132.9+ KB\n"
     ]
    }
   ],
   "source": [
    "data.info()"
   ]
  },
  {
   "cell_type": "code",
   "execution_count": 22,
   "id": "5cfbf5ae",
   "metadata": {},
   "outputs": [
    {
     "data": {
      "text/html": [
       "<div>\n",
       "<style scoped>\n",
       "    .dataframe tbody tr th:only-of-type {\n",
       "        vertical-align: middle;\n",
       "    }\n",
       "\n",
       "    .dataframe tbody tr th {\n",
       "        vertical-align: top;\n",
       "    }\n",
       "\n",
       "    .dataframe thead th {\n",
       "        text-align: right;\n",
       "    }\n",
       "</style>\n",
       "<table border=\"1\" class=\"dataframe\">\n",
       "  <thead>\n",
       "    <tr style=\"text-align: right;\">\n",
       "      <th></th>\n",
       "      <th>Invoice ID</th>\n",
       "      <th>Branch</th>\n",
       "      <th>City</th>\n",
       "      <th>Customer type</th>\n",
       "      <th>Gender</th>\n",
       "      <th>Product line</th>\n",
       "      <th>Unit price</th>\n",
       "      <th>Quantity</th>\n",
       "      <th>Tax 5%</th>\n",
       "      <th>Total</th>\n",
       "      <th>Date</th>\n",
       "      <th>Time</th>\n",
       "      <th>Payment</th>\n",
       "      <th>cogs</th>\n",
       "      <th>gross margin percentage</th>\n",
       "      <th>gross income</th>\n",
       "      <th>Rating</th>\n",
       "    </tr>\n",
       "  </thead>\n",
       "  <tbody>\n",
       "    <tr>\n",
       "      <th>0</th>\n",
       "      <td>Abuja_Branch</td>\n",
       "      <td>B</td>\n",
       "      <td>Abuja</td>\n",
       "      <td>Member</td>\n",
       "      <td>Female</td>\n",
       "      <td>Food and beverages</td>\n",
       "      <td>19742.4</td>\n",
       "      <td>3</td>\n",
       "      <td>2961.36</td>\n",
       "      <td>62188.56</td>\n",
       "      <td>2019-02-20</td>\n",
       "      <td>2023-04-10 13:27:00</td>\n",
       "      <td>Card</td>\n",
       "      <td>59227.2</td>\n",
       "      <td>4.761905</td>\n",
       "      <td>2961.36</td>\n",
       "      <td>5.9</td>\n",
       "    </tr>\n",
       "    <tr>\n",
       "      <th>1</th>\n",
       "      <td>Abuja_Branch</td>\n",
       "      <td>B</td>\n",
       "      <td>Abuja</td>\n",
       "      <td>Member</td>\n",
       "      <td>Female</td>\n",
       "      <td>Fashion accessories</td>\n",
       "      <td>5212.8</td>\n",
       "      <td>4</td>\n",
       "      <td>1042.56</td>\n",
       "      <td>21893.76</td>\n",
       "      <td>2019-02-06</td>\n",
       "      <td>2023-04-10 18:07:00</td>\n",
       "      <td>Epay</td>\n",
       "      <td>20851.2</td>\n",
       "      <td>4.761905</td>\n",
       "      <td>1042.56</td>\n",
       "      <td>4.5</td>\n",
       "    </tr>\n",
       "    <tr>\n",
       "      <th>2</th>\n",
       "      <td>Abuja_Branch</td>\n",
       "      <td>B</td>\n",
       "      <td>Abuja</td>\n",
       "      <td>Member</td>\n",
       "      <td>Male</td>\n",
       "      <td>Electronic accessories</td>\n",
       "      <td>9183.6</td>\n",
       "      <td>4</td>\n",
       "      <td>1836.72</td>\n",
       "      <td>38571.12</td>\n",
       "      <td>2019-03-09</td>\n",
       "      <td>2023-04-10 17:03:00</td>\n",
       "      <td>Cash</td>\n",
       "      <td>36734.4</td>\n",
       "      <td>4.761905</td>\n",
       "      <td>1836.72</td>\n",
       "      <td>6.8</td>\n",
       "    </tr>\n",
       "    <tr>\n",
       "      <th>3</th>\n",
       "      <td>Abuja_Branch</td>\n",
       "      <td>B</td>\n",
       "      <td>Abuja</td>\n",
       "      <td>Member</td>\n",
       "      <td>Female</td>\n",
       "      <td>Sports and travel</td>\n",
       "      <td>33739.2</td>\n",
       "      <td>6</td>\n",
       "      <td>10121.76</td>\n",
       "      <td>212556.96</td>\n",
       "      <td>2019-01-15</td>\n",
       "      <td>2023-04-10 16:19:00</td>\n",
       "      <td>Cash</td>\n",
       "      <td>202435.2</td>\n",
       "      <td>4.761905</td>\n",
       "      <td>10121.76</td>\n",
       "      <td>4.5</td>\n",
       "    </tr>\n",
       "    <tr>\n",
       "      <th>4</th>\n",
       "      <td>Abuja_Branch</td>\n",
       "      <td>B</td>\n",
       "      <td>Abuja</td>\n",
       "      <td>Normal</td>\n",
       "      <td>Female</td>\n",
       "      <td>Home and lifestyle</td>\n",
       "      <td>14508.0</td>\n",
       "      <td>2</td>\n",
       "      <td>1450.80</td>\n",
       "      <td>30466.80</td>\n",
       "      <td>2019-03-11</td>\n",
       "      <td>2023-04-10 15:30:00</td>\n",
       "      <td>Epay</td>\n",
       "      <td>29016.0</td>\n",
       "      <td>4.761905</td>\n",
       "      <td>1450.80</td>\n",
       "      <td>4.4</td>\n",
       "    </tr>\n",
       "  </tbody>\n",
       "</table>\n",
       "</div>"
      ],
      "text/plain": [
       "     Invoice ID Branch   City Customer type  Gender            Product line  \\\n",
       "0  Abuja_Branch      B  Abuja        Member  Female      Food and beverages   \n",
       "1  Abuja_Branch      B  Abuja        Member  Female     Fashion accessories   \n",
       "2  Abuja_Branch      B  Abuja        Member    Male  Electronic accessories   \n",
       "3  Abuja_Branch      B  Abuja        Member  Female       Sports and travel   \n",
       "4  Abuja_Branch      B  Abuja        Normal  Female      Home and lifestyle   \n",
       "\n",
       "   Unit price  Quantity    Tax 5%      Total       Date                Time  \\\n",
       "0     19742.4         3   2961.36   62188.56 2019-02-20 2023-04-10 13:27:00   \n",
       "1      5212.8         4   1042.56   21893.76 2019-02-06 2023-04-10 18:07:00   \n",
       "2      9183.6         4   1836.72   38571.12 2019-03-09 2023-04-10 17:03:00   \n",
       "3     33739.2         6  10121.76  212556.96 2019-01-15 2023-04-10 16:19:00   \n",
       "4     14508.0         2   1450.80   30466.80 2019-03-11 2023-04-10 15:30:00   \n",
       "\n",
       "  Payment      cogs  gross margin percentage  gross income  Rating  \n",
       "0    Card   59227.2                 4.761905       2961.36     5.9  \n",
       "1    Epay   20851.2                 4.761905       1042.56     4.5  \n",
       "2    Cash   36734.4                 4.761905       1836.72     6.8  \n",
       "3    Cash  202435.2                 4.761905      10121.76     4.5  \n",
       "4    Epay   29016.0                 4.761905       1450.80     4.4  "
      ]
     },
     "execution_count": 22,
     "metadata": {},
     "output_type": "execute_result"
    }
   ],
   "source": [
    "data.head()"
   ]
  },
  {
   "cell_type": "markdown",
   "id": "7e1becb0",
   "metadata": {},
   "source": [
    "## Extract Features from date & time\n",
    "\n",
    "\n",
    "#### Extract the Day feature from the Date column, and save to a new Day column."
   ]
  },
  {
   "cell_type": "code",
   "execution_count": 23,
   "id": "2150d7ef",
   "metadata": {},
   "outputs": [],
   "source": [
    "data['Days'] = data['Date'].dt.day "
   ]
  },
  {
   "cell_type": "code",
   "execution_count": 24,
   "id": "0672e820",
   "metadata": {},
   "outputs": [],
   "source": [
    "days = pd.DataFrame(data.Days)"
   ]
  },
  {
   "cell_type": "code",
   "execution_count": 25,
   "id": "9a786f33",
   "metadata": {},
   "outputs": [
    {
     "data": {
      "text/html": [
       "<div>\n",
       "<style scoped>\n",
       "    .dataframe tbody tr th:only-of-type {\n",
       "        vertical-align: middle;\n",
       "    }\n",
       "\n",
       "    .dataframe tbody tr th {\n",
       "        vertical-align: top;\n",
       "    }\n",
       "\n",
       "    .dataframe thead th {\n",
       "        text-align: right;\n",
       "    }\n",
       "</style>\n",
       "<table border=\"1\" class=\"dataframe\">\n",
       "  <thead>\n",
       "    <tr style=\"text-align: right;\">\n",
       "      <th></th>\n",
       "      <th>Days</th>\n",
       "    </tr>\n",
       "  </thead>\n",
       "  <tbody>\n",
       "    <tr>\n",
       "      <th>0</th>\n",
       "      <td>20</td>\n",
       "    </tr>\n",
       "    <tr>\n",
       "      <th>1</th>\n",
       "      <td>6</td>\n",
       "    </tr>\n",
       "    <tr>\n",
       "      <th>2</th>\n",
       "      <td>9</td>\n",
       "    </tr>\n",
       "    <tr>\n",
       "      <th>3</th>\n",
       "      <td>15</td>\n",
       "    </tr>\n",
       "    <tr>\n",
       "      <th>4</th>\n",
       "      <td>11</td>\n",
       "    </tr>\n",
       "    <tr>\n",
       "      <th>...</th>\n",
       "      <td>...</td>\n",
       "    </tr>\n",
       "    <tr>\n",
       "      <th>995</th>\n",
       "      <td>23</td>\n",
       "    </tr>\n",
       "    <tr>\n",
       "      <th>996</th>\n",
       "      <td>9</td>\n",
       "    </tr>\n",
       "    <tr>\n",
       "      <th>997</th>\n",
       "      <td>29</td>\n",
       "    </tr>\n",
       "    <tr>\n",
       "      <th>998</th>\n",
       "      <td>18</td>\n",
       "    </tr>\n",
       "    <tr>\n",
       "      <th>999</th>\n",
       "      <td>29</td>\n",
       "    </tr>\n",
       "  </tbody>\n",
       "</table>\n",
       "<p>1000 rows × 1 columns</p>\n",
       "</div>"
      ],
      "text/plain": [
       "     Days\n",
       "0      20\n",
       "1       6\n",
       "2       9\n",
       "3      15\n",
       "4      11\n",
       "..    ...\n",
       "995    23\n",
       "996     9\n",
       "997    29\n",
       "998    18\n",
       "999    29\n",
       "\n",
       "[1000 rows x 1 columns]"
      ]
     },
     "execution_count": 25,
     "metadata": {},
     "output_type": "execute_result"
    }
   ],
   "source": [
    "days"
   ]
  },
  {
   "cell_type": "markdown",
   "id": "1c52ad21",
   "metadata": {},
   "source": [
    "### Extract the Month feature from the Date column, and save to a new Month column\n"
   ]
  },
  {
   "cell_type": "code",
   "execution_count": 26,
   "id": "c8fa1bd1",
   "metadata": {},
   "outputs": [],
   "source": [
    "data['Month'] = data['Date'].dt.month"
   ]
  },
  {
   "cell_type": "code",
   "execution_count": 27,
   "id": "51e63800",
   "metadata": {},
   "outputs": [],
   "source": [
    "month = pd.DataFrame(data.Month)"
   ]
  },
  {
   "cell_type": "code",
   "execution_count": 28,
   "id": "ba428e21",
   "metadata": {},
   "outputs": [
    {
     "data": {
      "text/html": [
       "<div>\n",
       "<style scoped>\n",
       "    .dataframe tbody tr th:only-of-type {\n",
       "        vertical-align: middle;\n",
       "    }\n",
       "\n",
       "    .dataframe tbody tr th {\n",
       "        vertical-align: top;\n",
       "    }\n",
       "\n",
       "    .dataframe thead th {\n",
       "        text-align: right;\n",
       "    }\n",
       "</style>\n",
       "<table border=\"1\" class=\"dataframe\">\n",
       "  <thead>\n",
       "    <tr style=\"text-align: right;\">\n",
       "      <th></th>\n",
       "      <th>Month</th>\n",
       "    </tr>\n",
       "  </thead>\n",
       "  <tbody>\n",
       "    <tr>\n",
       "      <th>0</th>\n",
       "      <td>2</td>\n",
       "    </tr>\n",
       "    <tr>\n",
       "      <th>1</th>\n",
       "      <td>2</td>\n",
       "    </tr>\n",
       "    <tr>\n",
       "      <th>2</th>\n",
       "      <td>3</td>\n",
       "    </tr>\n",
       "    <tr>\n",
       "      <th>3</th>\n",
       "      <td>1</td>\n",
       "    </tr>\n",
       "    <tr>\n",
       "      <th>4</th>\n",
       "      <td>3</td>\n",
       "    </tr>\n",
       "    <tr>\n",
       "      <th>...</th>\n",
       "      <td>...</td>\n",
       "    </tr>\n",
       "    <tr>\n",
       "      <th>995</th>\n",
       "      <td>1</td>\n",
       "    </tr>\n",
       "    <tr>\n",
       "      <th>996</th>\n",
       "      <td>1</td>\n",
       "    </tr>\n",
       "    <tr>\n",
       "      <th>997</th>\n",
       "      <td>3</td>\n",
       "    </tr>\n",
       "    <tr>\n",
       "      <th>998</th>\n",
       "      <td>2</td>\n",
       "    </tr>\n",
       "    <tr>\n",
       "      <th>999</th>\n",
       "      <td>1</td>\n",
       "    </tr>\n",
       "  </tbody>\n",
       "</table>\n",
       "<p>1000 rows × 1 columns</p>\n",
       "</div>"
      ],
      "text/plain": [
       "     Month\n",
       "0        2\n",
       "1        2\n",
       "2        3\n",
       "3        1\n",
       "4        3\n",
       "..     ...\n",
       "995      1\n",
       "996      1\n",
       "997      3\n",
       "998      2\n",
       "999      1\n",
       "\n",
       "[1000 rows x 1 columns]"
      ]
     },
     "execution_count": 28,
     "metadata": {},
     "output_type": "execute_result"
    }
   ],
   "source": [
    "month"
   ]
  },
  {
   "cell_type": "markdown",
   "id": "a06d78db",
   "metadata": {},
   "source": [
    "### Extract the Year feature from the Date column, and save to a new Year column"
   ]
  },
  {
   "cell_type": "code",
   "execution_count": 29,
   "id": "d82adaf6",
   "metadata": {},
   "outputs": [],
   "source": [
    "data['Year'] = data['Date'].dt.year"
   ]
  },
  {
   "cell_type": "code",
   "execution_count": 30,
   "id": "2d70ea47",
   "metadata": {},
   "outputs": [],
   "source": [
    "year = pd.DataFrame(data.Year)"
   ]
  },
  {
   "cell_type": "code",
   "execution_count": 31,
   "id": "6edddbdf",
   "metadata": {},
   "outputs": [
    {
     "data": {
      "text/html": [
       "<div>\n",
       "<style scoped>\n",
       "    .dataframe tbody tr th:only-of-type {\n",
       "        vertical-align: middle;\n",
       "    }\n",
       "\n",
       "    .dataframe tbody tr th {\n",
       "        vertical-align: top;\n",
       "    }\n",
       "\n",
       "    .dataframe thead th {\n",
       "        text-align: right;\n",
       "    }\n",
       "</style>\n",
       "<table border=\"1\" class=\"dataframe\">\n",
       "  <thead>\n",
       "    <tr style=\"text-align: right;\">\n",
       "      <th></th>\n",
       "      <th>Year</th>\n",
       "    </tr>\n",
       "  </thead>\n",
       "  <tbody>\n",
       "    <tr>\n",
       "      <th>0</th>\n",
       "      <td>2019</td>\n",
       "    </tr>\n",
       "    <tr>\n",
       "      <th>1</th>\n",
       "      <td>2019</td>\n",
       "    </tr>\n",
       "    <tr>\n",
       "      <th>2</th>\n",
       "      <td>2019</td>\n",
       "    </tr>\n",
       "    <tr>\n",
       "      <th>3</th>\n",
       "      <td>2019</td>\n",
       "    </tr>\n",
       "    <tr>\n",
       "      <th>4</th>\n",
       "      <td>2019</td>\n",
       "    </tr>\n",
       "    <tr>\n",
       "      <th>...</th>\n",
       "      <td>...</td>\n",
       "    </tr>\n",
       "    <tr>\n",
       "      <th>995</th>\n",
       "      <td>2019</td>\n",
       "    </tr>\n",
       "    <tr>\n",
       "      <th>996</th>\n",
       "      <td>2019</td>\n",
       "    </tr>\n",
       "    <tr>\n",
       "      <th>997</th>\n",
       "      <td>2019</td>\n",
       "    </tr>\n",
       "    <tr>\n",
       "      <th>998</th>\n",
       "      <td>2019</td>\n",
       "    </tr>\n",
       "    <tr>\n",
       "      <th>999</th>\n",
       "      <td>2019</td>\n",
       "    </tr>\n",
       "  </tbody>\n",
       "</table>\n",
       "<p>1000 rows × 1 columns</p>\n",
       "</div>"
      ],
      "text/plain": [
       "     Year\n",
       "0    2019\n",
       "1    2019\n",
       "2    2019\n",
       "3    2019\n",
       "4    2019\n",
       "..    ...\n",
       "995  2019\n",
       "996  2019\n",
       "997  2019\n",
       "998  2019\n",
       "999  2019\n",
       "\n",
       "[1000 rows x 1 columns]"
      ]
     },
     "execution_count": 31,
     "metadata": {},
     "output_type": "execute_result"
    }
   ],
   "source": [
    "year"
   ]
  },
  {
   "cell_type": "markdown",
   "id": "76cca0fb",
   "metadata": {},
   "source": [
    "### Extract the Hour feature from the Time column and save to a new Hour column"
   ]
  },
  {
   "cell_type": "code",
   "execution_count": 32,
   "id": "a7d5d046",
   "metadata": {},
   "outputs": [],
   "source": [
    "data['Hours'] = data['Time'].dt.hour"
   ]
  },
  {
   "cell_type": "code",
   "execution_count": 33,
   "id": "cbf9ca1d",
   "metadata": {},
   "outputs": [],
   "source": [
    "hours = pd.DataFrame(data.Hours)"
   ]
  },
  {
   "cell_type": "code",
   "execution_count": 34,
   "id": "9a8b7d0b",
   "metadata": {},
   "outputs": [
    {
     "data": {
      "text/html": [
       "<div>\n",
       "<style scoped>\n",
       "    .dataframe tbody tr th:only-of-type {\n",
       "        vertical-align: middle;\n",
       "    }\n",
       "\n",
       "    .dataframe tbody tr th {\n",
       "        vertical-align: top;\n",
       "    }\n",
       "\n",
       "    .dataframe thead th {\n",
       "        text-align: right;\n",
       "    }\n",
       "</style>\n",
       "<table border=\"1\" class=\"dataframe\">\n",
       "  <thead>\n",
       "    <tr style=\"text-align: right;\">\n",
       "      <th></th>\n",
       "      <th>Hours</th>\n",
       "    </tr>\n",
       "  </thead>\n",
       "  <tbody>\n",
       "    <tr>\n",
       "      <th>0</th>\n",
       "      <td>13</td>\n",
       "    </tr>\n",
       "    <tr>\n",
       "      <th>1</th>\n",
       "      <td>18</td>\n",
       "    </tr>\n",
       "    <tr>\n",
       "      <th>2</th>\n",
       "      <td>17</td>\n",
       "    </tr>\n",
       "    <tr>\n",
       "      <th>3</th>\n",
       "      <td>16</td>\n",
       "    </tr>\n",
       "    <tr>\n",
       "      <th>4</th>\n",
       "      <td>15</td>\n",
       "    </tr>\n",
       "    <tr>\n",
       "      <th>...</th>\n",
       "      <td>...</td>\n",
       "    </tr>\n",
       "    <tr>\n",
       "      <th>995</th>\n",
       "      <td>10</td>\n",
       "    </tr>\n",
       "    <tr>\n",
       "      <th>996</th>\n",
       "      <td>11</td>\n",
       "    </tr>\n",
       "    <tr>\n",
       "      <th>997</th>\n",
       "      <td>19</td>\n",
       "    </tr>\n",
       "    <tr>\n",
       "      <th>998</th>\n",
       "      <td>11</td>\n",
       "    </tr>\n",
       "    <tr>\n",
       "      <th>999</th>\n",
       "      <td>13</td>\n",
       "    </tr>\n",
       "  </tbody>\n",
       "</table>\n",
       "<p>1000 rows × 1 columns</p>\n",
       "</div>"
      ],
      "text/plain": [
       "     Hours\n",
       "0       13\n",
       "1       18\n",
       "2       17\n",
       "3       16\n",
       "4       15\n",
       "..     ...\n",
       "995     10\n",
       "996     11\n",
       "997     19\n",
       "998     11\n",
       "999     13\n",
       "\n",
       "[1000 rows x 1 columns]"
      ]
     },
     "execution_count": 34,
     "metadata": {},
     "output_type": "execute_result"
    }
   ],
   "source": [
    "hours"
   ]
  },
  {
   "cell_type": "markdown",
   "id": "16a77d93",
   "metadata": {},
   "source": [
    "### Pandas provide the nunique() method to get a count of unique values, while the unique() function is used to get unique values of Series object.\n",
    "\n",
    "\n",
    "#### From the hours information, determine the numbers of unique hours of sales in the supermarket, and return an array of the hours using the unique() method"
   ]
  },
  {
   "cell_type": "code",
   "execution_count": 35,
   "id": "a6a9c73a",
   "metadata": {},
   "outputs": [
    {
     "data": {
      "text/plain": [
       "array([13, 18, 17, 16, 15, 10, 12, 19, 14, 11, 20], dtype=int64)"
      ]
     },
     "execution_count": 35,
     "metadata": {},
     "output_type": "execute_result"
    }
   ],
   "source": [
    "data.Hours.unique()"
   ]
  },
  {
   "cell_type": "code",
   "execution_count": 36,
   "id": "643e603c",
   "metadata": {},
   "outputs": [
    {
     "data": {
      "text/plain": [
       "Invoice ID                   3\n",
       "Branch                       3\n",
       "City                         3\n",
       "Customer type                2\n",
       "Gender                       2\n",
       "Product line                 6\n",
       "Unit price                 943\n",
       "Quantity                    10\n",
       "Tax 5%                     990\n",
       "Total                      990\n",
       "Date                        89\n",
       "Time                       506\n",
       "Payment                      3\n",
       "cogs                       990\n",
       "gross margin percentage      1\n",
       "gross income               990\n",
       "Rating                      61\n",
       "Days                        31\n",
       "Month                        3\n",
       "Year                         1\n",
       "Hours                       11\n",
       "dtype: int64"
      ]
     },
     "execution_count": 36,
     "metadata": {},
     "output_type": "execute_result"
    }
   ],
   "source": [
    "data.nunique()"
   ]
  },
  {
   "cell_type": "markdown",
   "id": "c03b3348",
   "metadata": {},
   "source": [
    "### Step 4 - Unique Values in Columns\n",
    "\n",
    "With the line of code below, we can get a list of the categorical column in the dataset. We iterate through the columns and check if each element is an object datatype. The result is saved to the \"categorical_columns\" variable as a list."
   ]
  },
  {
   "cell_type": "code",
   "execution_count": 37,
   "id": "4daf2727",
   "metadata": {},
   "outputs": [],
   "source": [
    "categorical_columns = [col for col in data.columns if data[col].dtype == 'object']"
   ]
  },
  {
   "cell_type": "code",
   "execution_count": 38,
   "id": "2e1b16ff",
   "metadata": {},
   "outputs": [
    {
     "data": {
      "text/plain": [
       "['Invoice ID',\n",
       " 'Branch',\n",
       " 'City',\n",
       " 'Customer type',\n",
       " 'Gender',\n",
       " 'Product line',\n",
       " 'Payment']"
      ]
     },
     "execution_count": 38,
     "metadata": {},
     "output_type": "execute_result"
    }
   ],
   "source": [
    "categorical_columns"
   ]
  },
  {
   "cell_type": "markdown",
   "id": "520e03a0",
   "metadata": {},
   "source": [
    "### From the information above, generate the unique values in the categorical columns (apart from the example - Branch column).\n",
    "For example, the unique values of the \"Branch\" column is displayed in list, as shown below.\n",
    "\n",
    "\n",
    "`df['Branch'].unique().tolist() ['B', 'C', 'A']`\n",
    "You can add print formating syntax to print out the total numbers of these values in a particular column."
   ]
  },
  {
   "cell_type": "code",
   "execution_count": 39,
   "id": "c56576ce",
   "metadata": {},
   "outputs": [
    {
     "data": {
      "text/plain": [
       "Invoice ID       3\n",
       "Branch           3\n",
       "City             3\n",
       "Customer type    2\n",
       "Gender           2\n",
       "Product line     6\n",
       "Payment          3\n",
       "dtype: int64"
      ]
     },
     "execution_count": 39,
     "metadata": {},
     "output_type": "execute_result"
    }
   ],
   "source": [
    "data[categorical_columns].nunique()"
   ]
  },
  {
   "cell_type": "code",
   "execution_count": 40,
   "id": "d0f3762a",
   "metadata": {},
   "outputs": [
    {
     "name": "stdout",
     "output_type": "stream",
     "text": [
      "['Abuja_Branch' 'Lagos_Branch' 'Port_Harcourt_Branch']\n",
      "['B' 'A' 'C']\n",
      "['Abuja' 'Lagos' 'Port Harcourt']\n",
      "['Member' 'Normal']\n",
      "['Female' 'Male']\n",
      "['Food and beverages' 'Fashion accessories' 'Electronic accessories'\n",
      " 'Sports and travel' 'Home and lifestyle' 'Health and beauty']\n",
      "['Card' 'Epay' 'Cash']\n"
     ]
    }
   ],
   "source": [
    "for col in data[categorical_columns]:\n",
    "    print(data[col].unique())"
   ]
  },
  {
   "cell_type": "markdown",
   "id": "a41e4bea",
   "metadata": {},
   "source": [
    "### The value_counts() function is used to get a Series containing counts of unique values. For the categorical columns above, generate the count figure of the values using the value_counts() method."
   ]
  },
  {
   "cell_type": "code",
   "execution_count": 41,
   "id": "00fa2be2",
   "metadata": {},
   "outputs": [
    {
     "name": "stdout",
     "output_type": "stream",
     "text": [
      "Lagos_Branch            340\n",
      "Abuja_Branch            332\n",
      "Port_Harcourt_Branch    328\n",
      "Name: Invoice ID, dtype: int64\n",
      "A    340\n",
      "B    332\n",
      "C    328\n",
      "Name: Branch, dtype: int64\n",
      "Lagos            340\n",
      "Abuja            332\n",
      "Port Harcourt    328\n",
      "Name: City, dtype: int64\n",
      "Member    501\n",
      "Normal    499\n",
      "Name: Customer type, dtype: int64\n",
      "Female    501\n",
      "Male      499\n",
      "Name: Gender, dtype: int64\n",
      "Fashion accessories       178\n",
      "Food and beverages        174\n",
      "Electronic accessories    170\n",
      "Sports and travel         166\n",
      "Home and lifestyle        160\n",
      "Health and beauty         152\n",
      "Name: Product line, dtype: int64\n",
      "Epay    345\n",
      "Cash    344\n",
      "Card    311\n",
      "Name: Payment, dtype: int64\n"
     ]
    }
   ],
   "source": [
    "for col in data[categorical_columns]:\n",
    "    print(data[col].value_counts())"
   ]
  },
  {
   "cell_type": "markdown",
   "id": "cd44eaef",
   "metadata": {},
   "source": [
    "## Step 5 - Aggregration with GroupBy\n",
    "Your task here, will be to create a groupby object with the \"City Column\", and aggregation function of sum and mean."
   ]
  },
  {
   "cell_type": "code",
   "execution_count": 42,
   "id": "5b8b3f3c",
   "metadata": {},
   "outputs": [
    {
     "data": {
      "text/html": [
       "<div>\n",
       "<style scoped>\n",
       "    .dataframe tbody tr th:only-of-type {\n",
       "        vertical-align: middle;\n",
       "    }\n",
       "\n",
       "    .dataframe tbody tr th {\n",
       "        vertical-align: top;\n",
       "    }\n",
       "\n",
       "    .dataframe thead tr th {\n",
       "        text-align: left;\n",
       "    }\n",
       "\n",
       "    .dataframe thead tr:last-of-type th {\n",
       "        text-align: right;\n",
       "    }\n",
       "</style>\n",
       "<table border=\"1\" class=\"dataframe\">\n",
       "  <thead>\n",
       "    <tr>\n",
       "      <th></th>\n",
       "      <th colspan=\"2\" halign=\"left\">Unit price</th>\n",
       "      <th colspan=\"2\" halign=\"left\">Quantity</th>\n",
       "      <th colspan=\"2\" halign=\"left\">Tax 5%</th>\n",
       "      <th colspan=\"2\" halign=\"left\">Total</th>\n",
       "      <th colspan=\"2\" halign=\"left\">cogs</th>\n",
       "      <th>...</th>\n",
       "      <th colspan=\"2\" halign=\"left\">Rating</th>\n",
       "      <th colspan=\"2\" halign=\"left\">Days</th>\n",
       "      <th colspan=\"2\" halign=\"left\">Month</th>\n",
       "      <th colspan=\"2\" halign=\"left\">Year</th>\n",
       "      <th colspan=\"2\" halign=\"left\">Hours</th>\n",
       "    </tr>\n",
       "    <tr>\n",
       "      <th></th>\n",
       "      <th>sum</th>\n",
       "      <th>mean</th>\n",
       "      <th>sum</th>\n",
       "      <th>mean</th>\n",
       "      <th>sum</th>\n",
       "      <th>mean</th>\n",
       "      <th>sum</th>\n",
       "      <th>mean</th>\n",
       "      <th>sum</th>\n",
       "      <th>mean</th>\n",
       "      <th>...</th>\n",
       "      <th>sum</th>\n",
       "      <th>mean</th>\n",
       "      <th>sum</th>\n",
       "      <th>mean</th>\n",
       "      <th>sum</th>\n",
       "      <th>mean</th>\n",
       "      <th>sum</th>\n",
       "      <th>mean</th>\n",
       "      <th>sum</th>\n",
       "      <th>mean</th>\n",
       "    </tr>\n",
       "    <tr>\n",
       "      <th>City</th>\n",
       "      <th></th>\n",
       "      <th></th>\n",
       "      <th></th>\n",
       "      <th></th>\n",
       "      <th></th>\n",
       "      <th></th>\n",
       "      <th></th>\n",
       "      <th></th>\n",
       "      <th></th>\n",
       "      <th></th>\n",
       "      <th></th>\n",
       "      <th></th>\n",
       "      <th></th>\n",
       "      <th></th>\n",
       "      <th></th>\n",
       "      <th></th>\n",
       "      <th></th>\n",
       "      <th></th>\n",
       "      <th></th>\n",
       "      <th></th>\n",
       "      <th></th>\n",
       "    </tr>\n",
       "  </thead>\n",
       "  <tbody>\n",
       "    <tr>\n",
       "      <th>Abuja</th>\n",
       "      <td>6652396.8</td>\n",
       "      <td>20037.339759</td>\n",
       "      <td>1820</td>\n",
       "      <td>5.481928</td>\n",
       "      <td>1820531.52</td>\n",
       "      <td>5483.528675</td>\n",
       "      <td>38231161.92</td>\n",
       "      <td>115154.102169</td>\n",
       "      <td>36410630.4</td>\n",
       "      <td>109670.573494</td>\n",
       "      <td>...</td>\n",
       "      <td>2263.6</td>\n",
       "      <td>6.818072</td>\n",
       "      <td>5068</td>\n",
       "      <td>15.265060</td>\n",
       "      <td>665</td>\n",
       "      <td>2.003012</td>\n",
       "      <td>670308</td>\n",
       "      <td>2019.0</td>\n",
       "      <td>5029</td>\n",
       "      <td>15.147590</td>\n",
       "    </tr>\n",
       "    <tr>\n",
       "      <th>Lagos</th>\n",
       "      <td>6705176.4</td>\n",
       "      <td>19721.107059</td>\n",
       "      <td>1859</td>\n",
       "      <td>5.467647</td>\n",
       "      <td>1820577.78</td>\n",
       "      <td>5354.640529</td>\n",
       "      <td>38232133.38</td>\n",
       "      <td>112447.451118</td>\n",
       "      <td>36411555.6</td>\n",
       "      <td>107092.810588</td>\n",
       "      <td>...</td>\n",
       "      <td>2389.2</td>\n",
       "      <td>7.027059</td>\n",
       "      <td>5232</td>\n",
       "      <td>15.388235</td>\n",
       "      <td>688</td>\n",
       "      <td>2.023529</td>\n",
       "      <td>686460</td>\n",
       "      <td>2019.0</td>\n",
       "      <td>4987</td>\n",
       "      <td>14.667647</td>\n",
       "    </tr>\n",
       "    <tr>\n",
       "      <th>Port Harcourt</th>\n",
       "      <td>6684393.6</td>\n",
       "      <td>20379.248780</td>\n",
       "      <td>1831</td>\n",
       "      <td>5.582317</td>\n",
       "      <td>1895463.54</td>\n",
       "      <td>5778.852256</td>\n",
       "      <td>39804734.34</td>\n",
       "      <td>121355.897378</td>\n",
       "      <td>37909270.8</td>\n",
       "      <td>115577.045122</td>\n",
       "      <td>...</td>\n",
       "      <td>2319.9</td>\n",
       "      <td>7.072866</td>\n",
       "      <td>4956</td>\n",
       "      <td>15.109756</td>\n",
       "      <td>640</td>\n",
       "      <td>1.951220</td>\n",
       "      <td>662232</td>\n",
       "      <td>2019.0</td>\n",
       "      <td>4894</td>\n",
       "      <td>14.920732</td>\n",
       "    </tr>\n",
       "  </tbody>\n",
       "</table>\n",
       "<p>3 rows × 24 columns</p>\n",
       "</div>"
      ],
      "text/plain": [
       "              Unit price               Quantity                Tax 5%  \\\n",
       "                     sum          mean      sum      mean         sum   \n",
       "City                                                                    \n",
       "Abuja          6652396.8  20037.339759     1820  5.481928  1820531.52   \n",
       "Lagos          6705176.4  19721.107059     1859  5.467647  1820577.78   \n",
       "Port Harcourt  6684393.6  20379.248780     1831  5.582317  1895463.54   \n",
       "\n",
       "                                  Total                       cogs  \\\n",
       "                      mean          sum           mean         sum   \n",
       "City                                                                 \n",
       "Abuja          5483.528675  38231161.92  115154.102169  36410630.4   \n",
       "Lagos          5354.640529  38232133.38  112447.451118  36411555.6   \n",
       "Port Harcourt  5778.852256  39804734.34  121355.897378  37909270.8   \n",
       "\n",
       "                              ...  Rating            Days            Month  \\\n",
       "                        mean  ...     sum      mean   sum       mean   sum   \n",
       "City                          ...                                            \n",
       "Abuja          109670.573494  ...  2263.6  6.818072  5068  15.265060   665   \n",
       "Lagos          107092.810588  ...  2389.2  7.027059  5232  15.388235   688   \n",
       "Port Harcourt  115577.045122  ...  2319.9  7.072866  4956  15.109756   640   \n",
       "\n",
       "                           Year         Hours             \n",
       "                   mean     sum    mean   sum       mean  \n",
       "City                                                      \n",
       "Abuja          2.003012  670308  2019.0  5029  15.147590  \n",
       "Lagos          2.023529  686460  2019.0  4987  14.667647  \n",
       "Port Harcourt  1.951220  662232  2019.0  4894  14.920732  \n",
       "\n",
       "[3 rows x 24 columns]"
      ]
     },
     "execution_count": 42,
     "metadata": {},
     "output_type": "execute_result"
    }
   ],
   "source": [
    "data.groupby('City').agg(['sum', 'mean'])"
   ]
  },
  {
   "cell_type": "markdown",
   "id": "eb9b3e76",
   "metadata": {},
   "source": [
    "### Using the groupby object, display a table that shows the gross income of each city, and determine the city with the highest total gross income."
   ]
  },
  {
   "cell_type": "code",
   "execution_count": 43,
   "id": "605c5d8e",
   "metadata": {},
   "outputs": [
    {
     "data": {
      "text/html": [
       "<div>\n",
       "<style scoped>\n",
       "    .dataframe tbody tr th:only-of-type {\n",
       "        vertical-align: middle;\n",
       "    }\n",
       "\n",
       "    .dataframe tbody tr th {\n",
       "        vertical-align: top;\n",
       "    }\n",
       "\n",
       "    .dataframe thead th {\n",
       "        text-align: right;\n",
       "    }\n",
       "</style>\n",
       "<table border=\"1\" class=\"dataframe\">\n",
       "  <thead>\n",
       "    <tr style=\"text-align: right;\">\n",
       "      <th></th>\n",
       "      <th>sum</th>\n",
       "      <th>mean</th>\n",
       "    </tr>\n",
       "    <tr>\n",
       "      <th>City</th>\n",
       "      <th></th>\n",
       "      <th></th>\n",
       "    </tr>\n",
       "  </thead>\n",
       "  <tbody>\n",
       "    <tr>\n",
       "      <th>Abuja</th>\n",
       "      <td>1820531.52</td>\n",
       "      <td>5483.528675</td>\n",
       "    </tr>\n",
       "    <tr>\n",
       "      <th>Lagos</th>\n",
       "      <td>1820577.78</td>\n",
       "      <td>5354.640529</td>\n",
       "    </tr>\n",
       "    <tr>\n",
       "      <th>Port Harcourt</th>\n",
       "      <td>1895463.54</td>\n",
       "      <td>5778.852256</td>\n",
       "    </tr>\n",
       "  </tbody>\n",
       "</table>\n",
       "</div>"
      ],
      "text/plain": [
       "                      sum         mean\n",
       "City                                  \n",
       "Abuja          1820531.52  5483.528675\n",
       "Lagos          1820577.78  5354.640529\n",
       "Port Harcourt  1895463.54  5778.852256"
      ]
     },
     "execution_count": 43,
     "metadata": {},
     "output_type": "execute_result"
    }
   ],
   "source": [
    "data.groupby('City')['gross income'].agg(['sum', 'mean'])"
   ]
  },
  {
   "cell_type": "markdown",
   "id": "fbc8713b",
   "metadata": {},
   "source": [
    "### Port Harcourt has the highest total gross income, followed by Abuja and lastly, Lagos."
   ]
  },
  {
   "cell_type": "markdown",
   "id": "beb7665e",
   "metadata": {},
   "source": [
    "### To explore other columns such as \"Unit Price\", \"Quantity\" etc. "
   ]
  },
  {
   "cell_type": "code",
   "execution_count": 44,
   "id": "8570a82a",
   "metadata": {},
   "outputs": [
    {
     "data": {
      "text/html": [
       "<div>\n",
       "<style scoped>\n",
       "    .dataframe tbody tr th:only-of-type {\n",
       "        vertical-align: middle;\n",
       "    }\n",
       "\n",
       "    .dataframe tbody tr th {\n",
       "        vertical-align: top;\n",
       "    }\n",
       "\n",
       "    .dataframe thead th {\n",
       "        text-align: right;\n",
       "    }\n",
       "</style>\n",
       "<table border=\"1\" class=\"dataframe\">\n",
       "  <thead>\n",
       "    <tr style=\"text-align: right;\">\n",
       "      <th></th>\n",
       "      <th>sum</th>\n",
       "      <th>mean</th>\n",
       "    </tr>\n",
       "    <tr>\n",
       "      <th>City</th>\n",
       "      <th></th>\n",
       "      <th></th>\n",
       "    </tr>\n",
       "  </thead>\n",
       "  <tbody>\n",
       "    <tr>\n",
       "      <th>Abuja</th>\n",
       "      <td>1820</td>\n",
       "      <td>5.481928</td>\n",
       "    </tr>\n",
       "    <tr>\n",
       "      <th>Lagos</th>\n",
       "      <td>1859</td>\n",
       "      <td>5.467647</td>\n",
       "    </tr>\n",
       "    <tr>\n",
       "      <th>Port Harcourt</th>\n",
       "      <td>1831</td>\n",
       "      <td>5.582317</td>\n",
       "    </tr>\n",
       "  </tbody>\n",
       "</table>\n",
       "</div>"
      ],
      "text/plain": [
       "                sum      mean\n",
       "City                         \n",
       "Abuja          1820  5.481928\n",
       "Lagos          1859  5.467647\n",
       "Port Harcourt  1831  5.582317"
      ]
     },
     "execution_count": 44,
     "metadata": {},
     "output_type": "execute_result"
    }
   ],
   "source": [
    "data.groupby('City')['Quantity'].agg(['sum', 'mean'])"
   ]
  },
  {
   "cell_type": "code",
   "execution_count": 45,
   "id": "f811f991",
   "metadata": {},
   "outputs": [
    {
     "data": {
      "text/html": [
       "<div>\n",
       "<style scoped>\n",
       "    .dataframe tbody tr th:only-of-type {\n",
       "        vertical-align: middle;\n",
       "    }\n",
       "\n",
       "    .dataframe tbody tr th {\n",
       "        vertical-align: top;\n",
       "    }\n",
       "\n",
       "    .dataframe thead th {\n",
       "        text-align: right;\n",
       "    }\n",
       "</style>\n",
       "<table border=\"1\" class=\"dataframe\">\n",
       "  <thead>\n",
       "    <tr style=\"text-align: right;\">\n",
       "      <th></th>\n",
       "      <th>sum</th>\n",
       "      <th>mean</th>\n",
       "    </tr>\n",
       "    <tr>\n",
       "      <th>City</th>\n",
       "      <th></th>\n",
       "      <th></th>\n",
       "    </tr>\n",
       "  </thead>\n",
       "  <tbody>\n",
       "    <tr>\n",
       "      <th>Abuja</th>\n",
       "      <td>6652396.8</td>\n",
       "      <td>20037.339759</td>\n",
       "    </tr>\n",
       "    <tr>\n",
       "      <th>Lagos</th>\n",
       "      <td>6705176.4</td>\n",
       "      <td>19721.107059</td>\n",
       "    </tr>\n",
       "    <tr>\n",
       "      <th>Port Harcourt</th>\n",
       "      <td>6684393.6</td>\n",
       "      <td>20379.248780</td>\n",
       "    </tr>\n",
       "  </tbody>\n",
       "</table>\n",
       "</div>"
      ],
      "text/plain": [
       "                     sum          mean\n",
       "City                                  \n",
       "Abuja          6652396.8  20037.339759\n",
       "Lagos          6705176.4  19721.107059\n",
       "Port Harcourt  6684393.6  20379.248780"
      ]
     },
     "execution_count": 45,
     "metadata": {},
     "output_type": "execute_result"
    }
   ],
   "source": [
    "data.groupby('City')['Unit price'].agg(['sum', 'mean'])"
   ]
  },
  {
   "cell_type": "markdown",
   "id": "49395c65",
   "metadata": {},
   "source": [
    "• Lagos has the highest unit price and Quantity."
   ]
  },
  {
   "cell_type": "markdown",
   "id": "2d419ebc",
   "metadata": {},
   "source": [
    "## Step 6 - Data Visualization\n",
    "\n",
    "In this section, you will provide answer to some questions by generating charts and making use of different plotting styles. You will use the Seaborn visualization library to generate your plots. For all visualizations, include a chart title by using the seaborn set_title method\n",
    "\n",
    "#### Using countplot, determine the branch with the highest sales record. Optional - You can extend this to determine - most used payment method, city with the most sales"
   ]
  },
  {
   "cell_type": "code",
   "execution_count": 46,
   "id": "c69bd4e0",
   "metadata": {},
   "outputs": [
    {
     "data": {
      "text/html": [
       "<div>\n",
       "<style scoped>\n",
       "    .dataframe tbody tr th:only-of-type {\n",
       "        vertical-align: middle;\n",
       "    }\n",
       "\n",
       "    .dataframe tbody tr th {\n",
       "        vertical-align: top;\n",
       "    }\n",
       "\n",
       "    .dataframe thead th {\n",
       "        text-align: right;\n",
       "    }\n",
       "</style>\n",
       "<table border=\"1\" class=\"dataframe\">\n",
       "  <thead>\n",
       "    <tr style=\"text-align: right;\">\n",
       "      <th></th>\n",
       "      <th>Invoice ID</th>\n",
       "      <th>Branch</th>\n",
       "      <th>City</th>\n",
       "      <th>Customer type</th>\n",
       "      <th>Gender</th>\n",
       "      <th>Product line</th>\n",
       "      <th>Unit price</th>\n",
       "      <th>Quantity</th>\n",
       "      <th>Tax 5%</th>\n",
       "      <th>Total</th>\n",
       "      <th>...</th>\n",
       "      <th>Time</th>\n",
       "      <th>Payment</th>\n",
       "      <th>cogs</th>\n",
       "      <th>gross margin percentage</th>\n",
       "      <th>gross income</th>\n",
       "      <th>Rating</th>\n",
       "      <th>Days</th>\n",
       "      <th>Month</th>\n",
       "      <th>Year</th>\n",
       "      <th>Hours</th>\n",
       "    </tr>\n",
       "  </thead>\n",
       "  <tbody>\n",
       "    <tr>\n",
       "      <th>0</th>\n",
       "      <td>Abuja_Branch</td>\n",
       "      <td>B</td>\n",
       "      <td>Abuja</td>\n",
       "      <td>Member</td>\n",
       "      <td>Female</td>\n",
       "      <td>Food and beverages</td>\n",
       "      <td>19742.4</td>\n",
       "      <td>3</td>\n",
       "      <td>2961.36</td>\n",
       "      <td>62188.56</td>\n",
       "      <td>...</td>\n",
       "      <td>2023-04-10 13:27:00</td>\n",
       "      <td>Card</td>\n",
       "      <td>59227.2</td>\n",
       "      <td>4.761905</td>\n",
       "      <td>2961.36</td>\n",
       "      <td>5.9</td>\n",
       "      <td>20</td>\n",
       "      <td>2</td>\n",
       "      <td>2019</td>\n",
       "      <td>13</td>\n",
       "    </tr>\n",
       "    <tr>\n",
       "      <th>1</th>\n",
       "      <td>Abuja_Branch</td>\n",
       "      <td>B</td>\n",
       "      <td>Abuja</td>\n",
       "      <td>Member</td>\n",
       "      <td>Female</td>\n",
       "      <td>Fashion accessories</td>\n",
       "      <td>5212.8</td>\n",
       "      <td>4</td>\n",
       "      <td>1042.56</td>\n",
       "      <td>21893.76</td>\n",
       "      <td>...</td>\n",
       "      <td>2023-04-10 18:07:00</td>\n",
       "      <td>Epay</td>\n",
       "      <td>20851.2</td>\n",
       "      <td>4.761905</td>\n",
       "      <td>1042.56</td>\n",
       "      <td>4.5</td>\n",
       "      <td>6</td>\n",
       "      <td>2</td>\n",
       "      <td>2019</td>\n",
       "      <td>18</td>\n",
       "    </tr>\n",
       "    <tr>\n",
       "      <th>2</th>\n",
       "      <td>Abuja_Branch</td>\n",
       "      <td>B</td>\n",
       "      <td>Abuja</td>\n",
       "      <td>Member</td>\n",
       "      <td>Male</td>\n",
       "      <td>Electronic accessories</td>\n",
       "      <td>9183.6</td>\n",
       "      <td>4</td>\n",
       "      <td>1836.72</td>\n",
       "      <td>38571.12</td>\n",
       "      <td>...</td>\n",
       "      <td>2023-04-10 17:03:00</td>\n",
       "      <td>Cash</td>\n",
       "      <td>36734.4</td>\n",
       "      <td>4.761905</td>\n",
       "      <td>1836.72</td>\n",
       "      <td>6.8</td>\n",
       "      <td>9</td>\n",
       "      <td>3</td>\n",
       "      <td>2019</td>\n",
       "      <td>17</td>\n",
       "    </tr>\n",
       "    <tr>\n",
       "      <th>3</th>\n",
       "      <td>Abuja_Branch</td>\n",
       "      <td>B</td>\n",
       "      <td>Abuja</td>\n",
       "      <td>Member</td>\n",
       "      <td>Female</td>\n",
       "      <td>Sports and travel</td>\n",
       "      <td>33739.2</td>\n",
       "      <td>6</td>\n",
       "      <td>10121.76</td>\n",
       "      <td>212556.96</td>\n",
       "      <td>...</td>\n",
       "      <td>2023-04-10 16:19:00</td>\n",
       "      <td>Cash</td>\n",
       "      <td>202435.2</td>\n",
       "      <td>4.761905</td>\n",
       "      <td>10121.76</td>\n",
       "      <td>4.5</td>\n",
       "      <td>15</td>\n",
       "      <td>1</td>\n",
       "      <td>2019</td>\n",
       "      <td>16</td>\n",
       "    </tr>\n",
       "    <tr>\n",
       "      <th>4</th>\n",
       "      <td>Abuja_Branch</td>\n",
       "      <td>B</td>\n",
       "      <td>Abuja</td>\n",
       "      <td>Normal</td>\n",
       "      <td>Female</td>\n",
       "      <td>Home and lifestyle</td>\n",
       "      <td>14508.0</td>\n",
       "      <td>2</td>\n",
       "      <td>1450.80</td>\n",
       "      <td>30466.80</td>\n",
       "      <td>...</td>\n",
       "      <td>2023-04-10 15:30:00</td>\n",
       "      <td>Epay</td>\n",
       "      <td>29016.0</td>\n",
       "      <td>4.761905</td>\n",
       "      <td>1450.80</td>\n",
       "      <td>4.4</td>\n",
       "      <td>11</td>\n",
       "      <td>3</td>\n",
       "      <td>2019</td>\n",
       "      <td>15</td>\n",
       "    </tr>\n",
       "  </tbody>\n",
       "</table>\n",
       "<p>5 rows × 21 columns</p>\n",
       "</div>"
      ],
      "text/plain": [
       "     Invoice ID Branch   City Customer type  Gender            Product line  \\\n",
       "0  Abuja_Branch      B  Abuja        Member  Female      Food and beverages   \n",
       "1  Abuja_Branch      B  Abuja        Member  Female     Fashion accessories   \n",
       "2  Abuja_Branch      B  Abuja        Member    Male  Electronic accessories   \n",
       "3  Abuja_Branch      B  Abuja        Member  Female       Sports and travel   \n",
       "4  Abuja_Branch      B  Abuja        Normal  Female      Home and lifestyle   \n",
       "\n",
       "   Unit price  Quantity    Tax 5%      Total  ...                Time Payment  \\\n",
       "0     19742.4         3   2961.36   62188.56  ... 2023-04-10 13:27:00    Card   \n",
       "1      5212.8         4   1042.56   21893.76  ... 2023-04-10 18:07:00    Epay   \n",
       "2      9183.6         4   1836.72   38571.12  ... 2023-04-10 17:03:00    Cash   \n",
       "3     33739.2         6  10121.76  212556.96  ... 2023-04-10 16:19:00    Cash   \n",
       "4     14508.0         2   1450.80   30466.80  ... 2023-04-10 15:30:00    Epay   \n",
       "\n",
       "       cogs  gross margin percentage  gross income  Rating  Days  Month  Year  \\\n",
       "0   59227.2                 4.761905       2961.36     5.9    20      2  2019   \n",
       "1   20851.2                 4.761905       1042.56     4.5     6      2  2019   \n",
       "2   36734.4                 4.761905       1836.72     6.8     9      3  2019   \n",
       "3  202435.2                 4.761905      10121.76     4.5    15      1  2019   \n",
       "4   29016.0                 4.761905       1450.80     4.4    11      3  2019   \n",
       "\n",
       "   Hours  \n",
       "0     13  \n",
       "1     18  \n",
       "2     17  \n",
       "3     16  \n",
       "4     15  \n",
       "\n",
       "[5 rows x 21 columns]"
      ]
     },
     "execution_count": 46,
     "metadata": {},
     "output_type": "execute_result"
    }
   ],
   "source": [
    "data.head()"
   ]
  },
  {
   "cell_type": "code",
   "execution_count": 47,
   "id": "07207cd6",
   "metadata": {},
   "outputs": [
    {
     "data": {
      "text/plain": [
       "Index(['Invoice ID', 'Branch', 'City', 'Customer type', 'Gender',\n",
       "       'Product line', 'Unit price', 'Quantity', 'Tax 5%', 'Total', 'Date',\n",
       "       'Time', 'Payment', 'cogs', 'gross margin percentage', 'gross income',\n",
       "       'Rating', 'Days', 'Month', 'Year', 'Hours'],\n",
       "      dtype='object')"
      ]
     },
     "execution_count": 47,
     "metadata": {},
     "output_type": "execute_result"
    }
   ],
   "source": [
    "data.columns"
   ]
  },
  {
   "cell_type": "markdown",
   "id": "8bfde95a",
   "metadata": {},
   "source": [
    "### Branch with the highest sales record:"
   ]
  },
  {
   "cell_type": "code",
   "execution_count": 48,
   "id": "4cdea785",
   "metadata": {},
   "outputs": [
    {
     "data": {
      "text/plain": [
       "Text(0.5, 1.0, 'Branch vs Sales')"
      ]
     },
     "execution_count": 48,
     "metadata": {},
     "output_type": "execute_result"
    },
    {
     "data": {
      "image/png": "[encoded data removed]",
      "text/plain": [
       "<Figure size 432x288 with 1 Axes>"
      ]
     },
     "metadata": {},
     "output_type": "display_data"
    }
   ],
   "source": [
    "sns.countplot(x= 'Branch', data = data).set_title('Branch vs Sales', size= 20)"
   ]
  },
  {
   "cell_type": "markdown",
   "id": "7023a7bb",
   "metadata": {},
   "source": [
    "The branch with the highest sales record is Branch A(Lagos Branch), followed by Branch B(Abuja Branch), and Branch C(Port Harcourt Branch)"
   ]
  },
  {
   "cell_type": "code",
   "execution_count": 49,
   "id": "f9a91831",
   "metadata": {},
   "outputs": [
    {
     "data": {
      "text/plain": [
       "<AxesSubplot:xlabel='Branch', ylabel='count'>"
      ]
     },
     "execution_count": 49,
     "metadata": {},
     "output_type": "execute_result"
    },
    {
     "data": {
      "image/png": "[encoded data removed]",
      "text/plain": [
       "<Figure size 432x288 with 1 Axes>"
      ]
     },
     "metadata": {},
     "output_type": "display_data"
    }
   ],
   "source": [
    "sns.countplot(x= 'Branch', hue= 'Gender', data = data)"
   ]
  },
  {
   "cell_type": "markdown",
   "id": "7dd9ffc3",
   "metadata": {},
   "source": [
    "#### There was more activity by the males in branch A while the female had more activity in branch C."
   ]
  },
  {
   "cell_type": "markdown",
   "id": "ae8e1ae3",
   "metadata": {},
   "source": [
    "### Explore a countplot for the Payment and City Column\n",
    "\n"
   ]
  },
  {
   "cell_type": "code",
   "execution_count": 50,
   "id": "5cda7e8c",
   "metadata": {},
   "outputs": [
    {
     "data": {
      "text/plain": [
       "<AxesSubplot:xlabel='Payment', ylabel='count'>"
      ]
     },
     "execution_count": 50,
     "metadata": {},
     "output_type": "execute_result"
    },
    {
     "data": {
      "image/png": "[encoded data removed]",
      "text/plain": [
       "<Figure size 432x288 with 1 Axes>"
      ]
     },
     "metadata": {},
     "output_type": "display_data"
    }
   ],
   "source": [
    "sns.countplot(x= 'Payment', hue= 'Gender', data = data)"
   ]
  },
  {
   "cell_type": "code",
   "execution_count": 51,
   "id": "da454119",
   "metadata": {},
   "outputs": [
    {
     "data": {
      "text/plain": [
       "<AxesSubplot:xlabel='City', ylabel='count'>"
      ]
     },
     "execution_count": 51,
     "metadata": {},
     "output_type": "execute_result"
    },
    {
     "data": {
      "image/png": "[encoded data removed]",
      "text/plain": [
       "<Figure size 432x288 with 1 Axes>"
      ]
     },
     "metadata": {},
     "output_type": "display_data"
    }
   ],
   "source": [
    "sns.countplot(x= 'City', hue= 'Gender', data = data)"
   ]
  },
  {
   "cell_type": "markdown",
   "id": "68a2c714",
   "metadata": {},
   "source": [
    "### Determine the highest & lowest sold product line, using Countplot\n",
    "\n",
    "Count Plot Tips- Set the Product line column to y-axis to prevent congestion on the x-axis"
   ]
  },
  {
   "cell_type": "code",
   "execution_count": 52,
   "id": "ef712100",
   "metadata": {},
   "outputs": [
    {
     "data": {
      "text/plain": [
       "Text(0.5, 1.0, 'Sales in different Product line')"
      ]
     },
     "execution_count": 52,
     "metadata": {},
     "output_type": "execute_result"
    },
    {
     "data": {
      "image/png": "[encoded data removed]",
      "text/plain": [
       "<Figure size 432x288 with 1 Axes>"
      ]
     },
     "metadata": {},
     "output_type": "display_data"
    }
   ],
   "source": [
    "sns.countplot(y= 'Product line', data = data).set_title('Sales in different Product line')"
   ]
  },
  {
   "cell_type": "markdown",
   "id": "c573fcbf",
   "metadata": {},
   "source": [
    "The highest product line sold is Fashion accessories while the lowest product line sold is Health and beauty."
   ]
  },
  {
   "cell_type": "markdown",
   "id": "e2d42c60",
   "metadata": {},
   "source": [
    "### Determine the Payment channel used by most customer to pay for each product line. \n",
    "Count Plot Tips- Set the \"product line\" column to y-axis to prevent congestion on the x-axis, and use the \"hue\" parameter for the \"Payment\" column."
   ]
  },
  {
   "cell_type": "code",
   "execution_count": 53,
   "id": "86f9e7be",
   "metadata": {},
   "outputs": [
    {
     "data": {
      "text/plain": [
       "Text(0.5, 1.0, 'Payment Channel vs Product line')"
      ]
     },
     "execution_count": 53,
     "metadata": {},
     "output_type": "execute_result"
    },
    {
     "data": {
      "image/png": "[encoded data removed]",
      "text/plain": [
       "<Figure size 432x288 with 1 Axes>"
      ]
     },
     "metadata": {},
     "output_type": "display_data"
    }
   ],
   "source": [
    "sns.countplot(y= 'Product line', hue= 'Payment', data = data).set_title('Payment Channel vs Product line')"
   ]
  },
  {
   "cell_type": "markdown",
   "id": "9fe38df0",
   "metadata": {},
   "source": [
    "### To determine the Payment channel for each branch.\n",
    "Count Plot Tips - Use the hue parameter for the \"branch\" column"
   ]
  },
  {
   "cell_type": "code",
   "execution_count": 54,
   "id": "9ad5d3ac",
   "metadata": {},
   "outputs": [
    {
     "data": {
      "text/plain": [
       "Text(0.5, 1.0, 'Payment vs Branch')"
      ]
     },
     "execution_count": 54,
     "metadata": {},
     "output_type": "execute_result"
    },
    {
     "data": {
      "image/png": "[encoded data removed]",
      "text/plain": [
       "<Figure size 432x288 with 1 Axes>"
      ]
     },
     "metadata": {},
     "output_type": "display_data"
    }
   ],
   "source": [
    "sns.countplot(y= 'Payment', hue= 'Branch', data = data).set_title('Payment vs Branch')"
   ]
  },
  {
   "cell_type": "code",
   "execution_count": 55,
   "id": "8eff4265",
   "metadata": {},
   "outputs": [
    {
     "data": {
      "text/plain": [
       "<AxesSubplot:xlabel='City', ylabel='count'>"
      ]
     },
     "execution_count": 55,
     "metadata": {},
     "output_type": "execute_result"
    },
    {
     "data": {
      "image/png": "[encoded data removed]",
      "text/plain": [
       "<Figure size 432x288 with 1 Axes>"
      ]
     },
     "metadata": {},
     "output_type": "display_data"
    }
   ],
   "source": [
    "sns.countplot(x= 'City', hue= 'Product line', data = data)"
   ]
  },
  {
   "cell_type": "markdown",
   "id": "77f02107",
   "metadata": {},
   "source": [
    "Food And Beverages are sold most in Port-Harcourt.\n",
    "\n",
    "Fashion accessories are also sold most in Port-Harcourt.\n",
    "\n",
    "Lagos has the highest purchase for electronic equipments.\n",
    "\n",
    "Sports and travel products were mostly sold at Abuja.\n",
    "\n",
    "Home and lifestyle commoditites are heavily purchased in Lagos.\n",
    "\n",
    "Abuja and Port Harcourt have an approximate equal number of sales for health and beauty commodities.\n",
    "\n",
    "The supermarket should focus on increasing its marketing strategy for sales of health and beauty products especially in lagos which has high potential yield rate.\n",
    "\n",
    "In other for the Branch at portharcourt to do better, the sales management should work on generating more incoming through sports and travel, home and lifestyle commodities.\n",
    "\n",
    "More efforts need to be put in the Lagos fashion accessory fraction.\n",
    "\n",
    "Relative to Lagos and Port Harcourt, Abuja branch hasn't been doing well sales wise as regards the yield in sales for the food and beverages, home and lifestyle. Hence, more attention should be given to these areas."
   ]
  },
  {
   "cell_type": "markdown",
   "id": "3e0f7dea",
   "metadata": {},
   "source": [
    "### Determine the branch with the lowest rating. This you can determine using a box plot which gives a statistical summary of the plotted features, and you can pick out the branch with the lowest rating from the plot."
   ]
  },
  {
   "cell_type": "code",
   "execution_count": 56,
   "id": "43c75374",
   "metadata": {},
   "outputs": [
    {
     "data": {
      "text/plain": [
       "<matplotlib.legend.Legend at 0x2017a868250>"
      ]
     },
     "execution_count": 56,
     "metadata": {},
     "output_type": "execute_result"
    },
    {
     "data": {
      "image/png": "[encoded data removed]",
      "text/plain": [
       "<Figure size 432x288 with 3 Axes>"
      ]
     },
     "metadata": {},
     "output_type": "display_data"
    }
   ],
   "source": [
    "plt.subplot(1,3,1)\n",
    "plt.hist('Rating', data=data[data['Branch']== 'A'], alpha=0.5, label='Branch A', color= 'blue')\n",
    "plt.xlabel('Rating')\n",
    "plt.legend(loc=0)\n",
    "\n",
    "plt.subplot(1,3,2)\n",
    "plt.hist('Rating', data=data[data['Branch']== 'B'], alpha=0.5, label='Branch B', color= 'red')\n",
    "plt.xlabel('Rating')\n",
    "plt.legend(loc=0)\n",
    "\n",
    "plt.subplot(1,3,3)\n",
    "plt.hist('Rating', data=data[data['Branch']== 'C'], alpha=0.5, label='Branch C', color= 'black')\n",
    "plt.xlabel('Rating')\n",
    "plt.legend(loc=0)"
   ]
  },
  {
   "cell_type": "markdown",
   "id": "458b93ab",
   "metadata": {},
   "source": [
    "#### You can also use the method below:"
   ]
  },
  {
   "cell_type": "code",
   "execution_count": 57,
   "id": "75c23e11",
   "metadata": {},
   "outputs": [
    {
     "data": {
      "text/plain": [
       "<AxesSubplot:xlabel='Rating', ylabel='Branch'>"
      ]
     },
     "execution_count": 57,
     "metadata": {},
     "output_type": "execute_result"
    },
    {
     "data": {
      "image/png": "[encoded data removed]",
      "text/plain": [
       "<Figure size 432x288 with 1 Axes>"
      ]
     },
     "metadata": {},
     "output_type": "display_data"
    }
   ],
   "source": [
    "sns.boxplot(y = 'Branch', x = 'Rating', data=data)"
   ]
  },
  {
   "cell_type": "markdown",
   "id": "ca8ca9bb",
   "metadata": {},
   "source": [
    "### The branch with the lowest rating is Abuja Branch."
   ]
  },
  {
   "cell_type": "markdown",
   "id": "a04c673f",
   "metadata": {},
   "source": [
    "### The gender type often affects the kind of products being purchased at the supermarket.\n",
    "•Using a catplot() generate visualization for the \"product line\" on x-axis, quantity on the y-axis, and hue as gender.\n",
    "\n",
    "### Set the aspect parameter to 4, so you can effectively space out each product line.\n",
    "•Plot the same chart, but Total Column as the y-axis\n",
    "\n",
    "•Write a summary of the insights you can pick from this chart."
   ]
  },
  {
   "cell_type": "code",
   "execution_count": 58,
   "id": "e5f22cbb",
   "metadata": {},
   "outputs": [
    {
     "data": {
      "text/plain": [
       "<matplotlib.legend.Legend at 0x201796f96a0>"
      ]
     },
     "execution_count": 58,
     "metadata": {},
     "output_type": "execute_result"
    },
    {
     "data": {
      "image/png": "[encoded data removed]",
      "text/plain": [
       "<Figure size 432x288 with 1 Axes>"
      ]
     },
     "metadata": {},
     "output_type": "display_data"
    }
   ],
   "source": [
    "plt.hist('Total',data=data[data['Gender']=='Male'],alpha=0.5,label='Male',color='red')\n",
    "plt.hist('Total',data=data[data['Gender']=='Female'],alpha=0.5,label='Female',color='blue')\n",
    "plt.title('Distribution Of Total Amount Of Sales By Gender')\n",
    "plt.xlabel('Total')\n",
    "plt.legend(loc=0)"
   ]
  },
  {
   "cell_type": "markdown",
   "id": "14cbc415",
   "metadata": {},
   "source": [
    "#### The chart above shows that the male gender is more in number. Both genders purchased specific goods more but the female gender spent more money."
   ]
  },
  {
   "cell_type": "markdown",
   "id": "fac50e5e",
   "metadata": {},
   "source": [
    "#### You can also use this method below:"
   ]
  },
  {
   "cell_type": "code",
   "execution_count": 59,
   "id": "6173bf0f",
   "metadata": {},
   "outputs": [
    {
     "data": {
      "text/plain": [
       "<seaborn.axisgrid.FacetGrid at 0x2017a9e2ee0>"
      ]
     },
     "execution_count": 59,
     "metadata": {},
     "output_type": "execute_result"
    },
    {
     "data": {
      "image/png": "[encoded data removed]",
      "text/plain": [
       "<Figure size 1541.15x360 with 1 Axes>"
      ]
     },
     "metadata": {},
     "output_type": "display_data"
    }
   ],
   "source": [
    "sns.catplot(x = 'Product line', y = 'Quantity', hue = 'Gender', kind= 'box', data=data, aspect=4.0)"
   ]
  },
  {
   "cell_type": "code",
   "execution_count": 60,
   "id": "8d2161e9",
   "metadata": {},
   "outputs": [
    {
     "data": {
      "text/plain": [
       "<seaborn.axisgrid.JointGrid at 0x2017ad28ac0>"
      ]
     },
     "execution_count": 60,
     "metadata": {},
     "output_type": "execute_result"
    },
    {
     "data": {
      "image/png": "[encoded data removed]",
      "text/plain": [
       "<Figure size 432x432 with 3 Axes>"
      ]
     },
     "metadata": {},
     "output_type": "display_data"
    }
   ],
   "source": [
    "sns.jointplot(data['Total'],data['cogs'],data,kind='scatter')"
   ]
  },
  {
   "cell_type": "markdown",
   "id": "3a75fb18",
   "metadata": {},
   "source": [
    "### An interesting insight to explore is the interaction of Unit price on the Quantity of goods purchased. To achieve this:\n",
    "\n",
    "Use the catplot() to plot Product line per unit price, and Product line per Quantity. Set the kind parameter to point. \n",
    "\n",
    "In a new cell, Write a summary of the insights you uncovered."
   ]
  },
  {
   "cell_type": "code",
   "execution_count": 61,
   "id": "2104e7a4",
   "metadata": {
    "scrolled": true
   },
   "outputs": [
    {
     "data": {
      "text/plain": [
       "<seaborn.axisgrid.FacetGrid at 0x2017a97b370>"
      ]
     },
     "execution_count": 61,
     "metadata": {},
     "output_type": "execute_result"
    },
    {
     "data": {
      "image/png": "[encoded data removed]",
      "text/plain": [
       "<Figure size 1440x360 with 1 Axes>"
      ]
     },
     "metadata": {},
     "output_type": "display_data"
    }
   ],
   "source": [
    "sns.catplot(y = 'Unit price', x = 'Product line', kind= 'point', data = data, aspect = 4)"
   ]
  },
  {
   "cell_type": "code",
   "execution_count": 62,
   "id": "3e070bc0",
   "metadata": {},
   "outputs": [
    {
     "data": {
      "text/plain": [
       "<seaborn.axisgrid.FacetGrid at 0x2017976f040>"
      ]
     },
     "execution_count": 62,
     "metadata": {},
     "output_type": "execute_result"
    },
    {
     "data": {
      "image/png": "[encoded data removed]",
      "text/plain": [
       "<Figure size 1440x360 with 1 Axes>"
      ]
     },
     "metadata": {},
     "output_type": "display_data"
    }
   ],
   "source": [
    "sns.catplot(y = 'Quantity', x = 'Product line', kind= 'point', data = data, aspect = 4)"
   ]
  },
  {
   "cell_type": "markdown",
   "id": "1df2da74",
   "metadata": {},
   "source": [
    "### The chart above shows that: \n",
    "\n",
    "• Fashion accessories has the highest Unit price but lowest Quantity.\n",
    "\n",
    "• Electronic accessories has the highest Quantity but lowest Unit price."
   ]
  },
  {
   "cell_type": "markdown",
   "id": "4ba1b952",
   "metadata": {},
   "source": [
    "### Summary\n",
    "\n",
    "In this project, we were able to perform various pandas funcions that help us analyze data including the Numpy, Matplotlib, Seaborn etc. Going through the data above, you could see there are other ways the task could be eplored and accomplished on pandas. This is one good factor about using pandas."
   ]
  },
  {
   "attachments": {
    "IMG_4243.jpg": {
     "image/jpeg": "[encoded data removed]"
    }
   },
   "cell_type": "markdown",
   "id": "b25bdbf8",
   "metadata": {},
   "source": [
    "![IMG_4243.jpg](attachment:IMG_4243.jpg)"
   ]
  },
  {
   "cell_type": "code",
   "execution_count": null,
   "id": "916a9797",
   "metadata": {},
   "outputs": [],
   "source": []
  }
 ],
 "metadata": {
  "kernelspec": {
   "display_name": "Python 3 (ipykernel)",
   "language": "python",
   "name": "python3"
  },
  "language_info": {
   "codemirror_mode": {
    "name": "ipython",
    "version": 3
   },
   "file_extension": ".py",
   "mimetype": "text/x-python",
   "name": "python",
   "nbconvert_exporter": "python",
   "pygments_lexer": "ipython3",
   "version": "3.9.12"
  }
 },
 "nbformat": 4,
 "nbformat_minor": 5
}
